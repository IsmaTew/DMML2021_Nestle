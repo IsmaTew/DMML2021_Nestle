{
  "nbformat": 4,
  "nbformat_minor": 0,
  "metadata": {
    "kernelspec": {
      "display_name": "Python 3",
      "language": "python",
      "name": "python3"
    },
    "language_info": {
      "codemirror_mode": {
        "name": "ipython",
        "version": 3
      },
      "file_extension": ".py",
      "mimetype": "text/x-python",
      "name": "python",
      "nbconvert_exporter": "python",
      "pygments_lexer": "ipython3",
      "version": "3.7.3"
    },
    "colab": {
      "name": "Copie de Project code 2 amélioration",
      "provenance": [],
      "collapsed_sections": [],
      "toc_visible": true,
      "include_colab_link": true
    }
  },
  "cells": [
    {
      "cell_type": "markdown",
      "metadata": {
        "id": "view-in-github",
        "colab_type": "text"
      },
      "source": [
        "<a href=\"https://colab.research.google.com/github/NFroehl/DMML2021_Nestle/blob/main/Code%5CCopie_de_Project_versionfinale.ipynb\" target=\"_parent\"><img src=\"https://colab.research.google.com/assets/colab-badge.svg\" alt=\"Open In Colab\"/></a>"
      ]
    },
    {
      "cell_type": "markdown",
      "metadata": {
        "id": "z9JGePu64Ml4"
      },
      "source": [
        "#Project : Nestle"
      ]
    },
    {
      "cell_type": "markdown",
      "metadata": {
        "id": "pCrMlTr04TlH"
      },
      "source": [
        "Here are the important libraries that we will use"
      ]
    },
    {
      "cell_type": "code",
      "metadata": {
        "id": "tdiuxCSZ4ZXw",
        "colab": {
          "base_uri": "https://localhost:8080/"
        },
        "outputId": "bb5045f6-489d-4e5c-d4e7-4ff07db93e1b"
      },
      "source": [
        "# Install and update spaCy\n",
        "!pip install -U spacy\n",
        "\n",
        "# Download the french language model\n",
        "!python -m spacy download fr"
      ],
      "execution_count": 221,
      "outputs": [
        {
          "output_type": "stream",
          "name": "stdout",
          "text": [
            "Requirement already satisfied: spacy in /usr/local/lib/python3.7/dist-packages (3.2.1)\n",
            "Requirement already satisfied: murmurhash<1.1.0,>=0.28.0 in /usr/local/lib/python3.7/dist-packages (from spacy) (1.0.6)\n",
            "Requirement already satisfied: pydantic!=1.8,!=1.8.1,<1.9.0,>=1.7.4 in /usr/local/lib/python3.7/dist-packages (from spacy) (1.8.2)\n",
            "Requirement already satisfied: spacy-legacy<3.1.0,>=3.0.8 in /usr/local/lib/python3.7/dist-packages (from spacy) (3.0.8)\n",
            "Requirement already satisfied: wasabi<1.1.0,>=0.8.1 in /usr/local/lib/python3.7/dist-packages (from spacy) (0.8.2)\n",
            "Requirement already satisfied: typing-extensions<4.0.0.0,>=3.7.4 in /usr/local/lib/python3.7/dist-packages (from spacy) (3.10.0.2)\n",
            "Requirement already satisfied: spacy-loggers<2.0.0,>=1.0.0 in /usr/local/lib/python3.7/dist-packages (from spacy) (1.0.1)\n",
            "Requirement already satisfied: jinja2 in /usr/local/lib/python3.7/dist-packages (from spacy) (2.11.3)\n",
            "Requirement already satisfied: pathy>=0.3.5 in /usr/local/lib/python3.7/dist-packages (from spacy) (0.6.1)\n",
            "Requirement already satisfied: requests<3.0.0,>=2.13.0 in /usr/local/lib/python3.7/dist-packages (from spacy) (2.23.0)\n",
            "Requirement already satisfied: typer<0.5.0,>=0.3.0 in /usr/local/lib/python3.7/dist-packages (from spacy) (0.4.0)\n",
            "Requirement already satisfied: setuptools in /usr/local/lib/python3.7/dist-packages (from spacy) (57.4.0)\n",
            "Requirement already satisfied: catalogue<2.1.0,>=2.0.6 in /usr/local/lib/python3.7/dist-packages (from spacy) (2.0.6)\n",
            "Requirement already satisfied: langcodes<4.0.0,>=3.2.0 in /usr/local/lib/python3.7/dist-packages (from spacy) (3.3.0)\n",
            "Requirement already satisfied: preshed<3.1.0,>=3.0.2 in /usr/local/lib/python3.7/dist-packages (from spacy) (3.0.6)\n",
            "Requirement already satisfied: packaging>=20.0 in /usr/local/lib/python3.7/dist-packages (from spacy) (21.3)\n",
            "Requirement already satisfied: thinc<8.1.0,>=8.0.12 in /usr/local/lib/python3.7/dist-packages (from spacy) (8.0.13)\n",
            "Requirement already satisfied: cymem<2.1.0,>=2.0.2 in /usr/local/lib/python3.7/dist-packages (from spacy) (2.0.6)\n",
            "Requirement already satisfied: tqdm<5.0.0,>=4.38.0 in /usr/local/lib/python3.7/dist-packages (from spacy) (4.62.3)\n",
            "Requirement already satisfied: srsly<3.0.0,>=2.4.1 in /usr/local/lib/python3.7/dist-packages (from spacy) (2.4.2)\n",
            "Requirement already satisfied: numpy>=1.15.0 in /usr/local/lib/python3.7/dist-packages (from spacy) (1.19.5)\n",
            "Requirement already satisfied: blis<0.8.0,>=0.4.0 in /usr/local/lib/python3.7/dist-packages (from spacy) (0.4.1)\n",
            "Requirement already satisfied: zipp>=0.5 in /usr/local/lib/python3.7/dist-packages (from catalogue<2.1.0,>=2.0.6->spacy) (3.6.0)\n",
            "Requirement already satisfied: pyparsing!=3.0.5,>=2.0.2 in /usr/local/lib/python3.7/dist-packages (from packaging>=20.0->spacy) (3.0.6)\n",
            "Requirement already satisfied: smart-open<6.0.0,>=5.0.0 in /usr/local/lib/python3.7/dist-packages (from pathy>=0.3.5->spacy) (5.2.1)\n",
            "Requirement already satisfied: idna<3,>=2.5 in /usr/local/lib/python3.7/dist-packages (from requests<3.0.0,>=2.13.0->spacy) (2.10)\n",
            "Requirement already satisfied: certifi>=2017.4.17 in /usr/local/lib/python3.7/dist-packages (from requests<3.0.0,>=2.13.0->spacy) (2021.10.8)\n",
            "Requirement already satisfied: chardet<4,>=3.0.2 in /usr/local/lib/python3.7/dist-packages (from requests<3.0.0,>=2.13.0->spacy) (3.0.4)\n",
            "Requirement already satisfied: urllib3!=1.25.0,!=1.25.1,<1.26,>=1.21.1 in /usr/local/lib/python3.7/dist-packages (from requests<3.0.0,>=2.13.0->spacy) (1.24.3)\n",
            "Requirement already satisfied: click<9.0.0,>=7.1.1 in /usr/local/lib/python3.7/dist-packages (from typer<0.5.0,>=0.3.0->spacy) (7.1.2)\n",
            "Requirement already satisfied: MarkupSafe>=0.23 in /usr/local/lib/python3.7/dist-packages (from jinja2->spacy) (2.0.1)\n",
            "\u001b[38;5;3m⚠ As of spaCy v3.0, shortcuts like 'fr' are deprecated. Please use the\n",
            "full pipeline package name 'fr_core_news_sm' instead.\u001b[0m\n",
            "Collecting fr-core-news-sm==3.2.0\n",
            "  Downloading https://github.com/explosion/spacy-models/releases/download/fr_core_news_sm-3.2.0/fr_core_news_sm-3.2.0-py3-none-any.whl (17.4 MB)\n",
            "\u001b[K     |████████████████████████████████| 17.4 MB 101.6 MB/s \n",
            "\u001b[?25hRequirement already satisfied: spacy<3.3.0,>=3.2.0 in /usr/local/lib/python3.7/dist-packages (from fr-core-news-sm==3.2.0) (3.2.1)\n",
            "Requirement already satisfied: wasabi<1.1.0,>=0.8.1 in /usr/local/lib/python3.7/dist-packages (from spacy<3.3.0,>=3.2.0->fr-core-news-sm==3.2.0) (0.8.2)\n",
            "Requirement already satisfied: pathy>=0.3.5 in /usr/local/lib/python3.7/dist-packages (from spacy<3.3.0,>=3.2.0->fr-core-news-sm==3.2.0) (0.6.1)\n",
            "Requirement already satisfied: spacy-loggers<2.0.0,>=1.0.0 in /usr/local/lib/python3.7/dist-packages (from spacy<3.3.0,>=3.2.0->fr-core-news-sm==3.2.0) (1.0.1)\n",
            "Requirement already satisfied: cymem<2.1.0,>=2.0.2 in /usr/local/lib/python3.7/dist-packages (from spacy<3.3.0,>=3.2.0->fr-core-news-sm==3.2.0) (2.0.6)\n",
            "Requirement already satisfied: requests<3.0.0,>=2.13.0 in /usr/local/lib/python3.7/dist-packages (from spacy<3.3.0,>=3.2.0->fr-core-news-sm==3.2.0) (2.23.0)\n",
            "Requirement already satisfied: murmurhash<1.1.0,>=0.28.0 in /usr/local/lib/python3.7/dist-packages (from spacy<3.3.0,>=3.2.0->fr-core-news-sm==3.2.0) (1.0.6)\n",
            "Requirement already satisfied: jinja2 in /usr/local/lib/python3.7/dist-packages (from spacy<3.3.0,>=3.2.0->fr-core-news-sm==3.2.0) (2.11.3)\n",
            "Requirement already satisfied: preshed<3.1.0,>=3.0.2 in /usr/local/lib/python3.7/dist-packages (from spacy<3.3.0,>=3.2.0->fr-core-news-sm==3.2.0) (3.0.6)\n",
            "Requirement already satisfied: setuptools in /usr/local/lib/python3.7/dist-packages (from spacy<3.3.0,>=3.2.0->fr-core-news-sm==3.2.0) (57.4.0)\n",
            "Requirement already satisfied: tqdm<5.0.0,>=4.38.0 in /usr/local/lib/python3.7/dist-packages (from spacy<3.3.0,>=3.2.0->fr-core-news-sm==3.2.0) (4.62.3)\n",
            "Requirement already satisfied: typing-extensions<4.0.0.0,>=3.7.4 in /usr/local/lib/python3.7/dist-packages (from spacy<3.3.0,>=3.2.0->fr-core-news-sm==3.2.0) (3.10.0.2)\n",
            "Requirement already satisfied: langcodes<4.0.0,>=3.2.0 in /usr/local/lib/python3.7/dist-packages (from spacy<3.3.0,>=3.2.0->fr-core-news-sm==3.2.0) (3.3.0)\n",
            "Requirement already satisfied: numpy>=1.15.0 in /usr/local/lib/python3.7/dist-packages (from spacy<3.3.0,>=3.2.0->fr-core-news-sm==3.2.0) (1.19.5)\n",
            "Requirement already satisfied: pydantic!=1.8,!=1.8.1,<1.9.0,>=1.7.4 in /usr/local/lib/python3.7/dist-packages (from spacy<3.3.0,>=3.2.0->fr-core-news-sm==3.2.0) (1.8.2)\n",
            "Requirement already satisfied: spacy-legacy<3.1.0,>=3.0.8 in /usr/local/lib/python3.7/dist-packages (from spacy<3.3.0,>=3.2.0->fr-core-news-sm==3.2.0) (3.0.8)\n",
            "Requirement already satisfied: catalogue<2.1.0,>=2.0.6 in /usr/local/lib/python3.7/dist-packages (from spacy<3.3.0,>=3.2.0->fr-core-news-sm==3.2.0) (2.0.6)\n",
            "Requirement already satisfied: packaging>=20.0 in /usr/local/lib/python3.7/dist-packages (from spacy<3.3.0,>=3.2.0->fr-core-news-sm==3.2.0) (21.3)\n",
            "Requirement already satisfied: srsly<3.0.0,>=2.4.1 in /usr/local/lib/python3.7/dist-packages (from spacy<3.3.0,>=3.2.0->fr-core-news-sm==3.2.0) (2.4.2)\n",
            "Requirement already satisfied: typer<0.5.0,>=0.3.0 in /usr/local/lib/python3.7/dist-packages (from spacy<3.3.0,>=3.2.0->fr-core-news-sm==3.2.0) (0.4.0)\n",
            "Requirement already satisfied: blis<0.8.0,>=0.4.0 in /usr/local/lib/python3.7/dist-packages (from spacy<3.3.0,>=3.2.0->fr-core-news-sm==3.2.0) (0.4.1)\n",
            "Requirement already satisfied: thinc<8.1.0,>=8.0.12 in /usr/local/lib/python3.7/dist-packages (from spacy<3.3.0,>=3.2.0->fr-core-news-sm==3.2.0) (8.0.13)\n",
            "Requirement already satisfied: zipp>=0.5 in /usr/local/lib/python3.7/dist-packages (from catalogue<2.1.0,>=2.0.6->spacy<3.3.0,>=3.2.0->fr-core-news-sm==3.2.0) (3.6.0)\n",
            "Requirement already satisfied: pyparsing!=3.0.5,>=2.0.2 in /usr/local/lib/python3.7/dist-packages (from packaging>=20.0->spacy<3.3.0,>=3.2.0->fr-core-news-sm==3.2.0) (3.0.6)\n",
            "Requirement already satisfied: smart-open<6.0.0,>=5.0.0 in /usr/local/lib/python3.7/dist-packages (from pathy>=0.3.5->spacy<3.3.0,>=3.2.0->fr-core-news-sm==3.2.0) (5.2.1)\n",
            "Requirement already satisfied: urllib3!=1.25.0,!=1.25.1,<1.26,>=1.21.1 in /usr/local/lib/python3.7/dist-packages (from requests<3.0.0,>=2.13.0->spacy<3.3.0,>=3.2.0->fr-core-news-sm==3.2.0) (1.24.3)\n",
            "Requirement already satisfied: certifi>=2017.4.17 in /usr/local/lib/python3.7/dist-packages (from requests<3.0.0,>=2.13.0->spacy<3.3.0,>=3.2.0->fr-core-news-sm==3.2.0) (2021.10.8)\n",
            "Requirement already satisfied: chardet<4,>=3.0.2 in /usr/local/lib/python3.7/dist-packages (from requests<3.0.0,>=2.13.0->spacy<3.3.0,>=3.2.0->fr-core-news-sm==3.2.0) (3.0.4)\n",
            "Requirement already satisfied: idna<3,>=2.5 in /usr/local/lib/python3.7/dist-packages (from requests<3.0.0,>=2.13.0->spacy<3.3.0,>=3.2.0->fr-core-news-sm==3.2.0) (2.10)\n",
            "Requirement already satisfied: click<9.0.0,>=7.1.1 in /usr/local/lib/python3.7/dist-packages (from typer<0.5.0,>=0.3.0->spacy<3.3.0,>=3.2.0->fr-core-news-sm==3.2.0) (7.1.2)\n",
            "Requirement already satisfied: MarkupSafe>=0.23 in /usr/local/lib/python3.7/dist-packages (from jinja2->spacy<3.3.0,>=3.2.0->fr-core-news-sm==3.2.0) (2.0.1)\n",
            "\u001b[38;5;2m✔ Download and installation successful\u001b[0m\n",
            "You can now load the package via spacy.load('fr_core_news_sm')\n"
          ]
        }
      ]
    },
    {
      "cell_type": "code",
      "source": [
        "# Libraries:\n",
        "\n",
        "import pandas as pd\n",
        "import numpy as np\n",
        "import spacy\n",
        "import string\n",
        "from spacy.lang.fr.stop_words import STOP_WORDS\n",
        "from sklearn.metrics import confusion_matrix, accuracy_score, precision_score, recall_score, f1_score\n",
        "from sklearn.feature_extraction.text import TfidfVectorizer"
      ],
      "metadata": {
        "id": "swPwmYZXXHMS"
      },
      "execution_count": 222,
      "outputs": []
    },
    {
      "cell_type": "markdown",
      "metadata": {
        "id": "qMdv9sJ9Z_KT"
      },
      "source": [
        "#1) Data Preparation"
      ]
    },
    {
      "cell_type": "markdown",
      "source": [
        "##a) Import Data"
      ],
      "metadata": {
        "id": "CdYhF9oTRzoh"
      }
    },
    {
      "cell_type": "markdown",
      "metadata": {
        "id": "bA2Prjju4l2q"
      },
      "source": [
        "First, we read the Training Data using the download link."
      ]
    },
    {
      "cell_type": "code",
      "metadata": {
        "colab": {
          "base_uri": "https://localhost:8080/",
          "height": 206
        },
        "id": "igMYiUZi4kCn",
        "outputId": "1c87e291-d5f1-4e8d-dab0-e11dddefa6a0"
      },
      "source": [
        "# Read the data:\n",
        "\n",
        "# We take the url to doawnload the training data:\n",
        "\n",
        "url = \"https://raw.githubusercontent.com/NFroehl/DMML2021_Nestle/74eb14159f5f045d427350358637df31b81ea73b/data/training_data.csv\"\n",
        "Training_Data = pd.read_csv(url, delimiter=\",\")\n",
        "Training_Data.head()"
      ],
      "execution_count": 223,
      "outputs": [
        {
          "output_type": "execute_result",
          "data": {
            "text/html": [
              "<div>\n",
              "<style scoped>\n",
              "    .dataframe tbody tr th:only-of-type {\n",
              "        vertical-align: middle;\n",
              "    }\n",
              "\n",
              "    .dataframe tbody tr th {\n",
              "        vertical-align: top;\n",
              "    }\n",
              "\n",
              "    .dataframe thead th {\n",
              "        text-align: right;\n",
              "    }\n",
              "</style>\n",
              "<table border=\"1\" class=\"dataframe\">\n",
              "  <thead>\n",
              "    <tr style=\"text-align: right;\">\n",
              "      <th></th>\n",
              "      <th>id</th>\n",
              "      <th>sentence</th>\n",
              "      <th>difficulty</th>\n",
              "    </tr>\n",
              "  </thead>\n",
              "  <tbody>\n",
              "    <tr>\n",
              "      <th>0</th>\n",
              "      <td>0</td>\n",
              "      <td>Les coûts kilométriques réels peuvent diverger...</td>\n",
              "      <td>C1</td>\n",
              "    </tr>\n",
              "    <tr>\n",
              "      <th>1</th>\n",
              "      <td>1</td>\n",
              "      <td>Le bleu, c'est ma couleur préférée mais je n'a...</td>\n",
              "      <td>A1</td>\n",
              "    </tr>\n",
              "    <tr>\n",
              "      <th>2</th>\n",
              "      <td>2</td>\n",
              "      <td>Le test de niveau en français est sur le site ...</td>\n",
              "      <td>A1</td>\n",
              "    </tr>\n",
              "    <tr>\n",
              "      <th>3</th>\n",
              "      <td>3</td>\n",
              "      <td>Est-ce que ton mari est aussi de Boston?</td>\n",
              "      <td>A1</td>\n",
              "    </tr>\n",
              "    <tr>\n",
              "      <th>4</th>\n",
              "      <td>4</td>\n",
              "      <td>Dans les écoles de commerce, dans les couloirs...</td>\n",
              "      <td>B1</td>\n",
              "    </tr>\n",
              "  </tbody>\n",
              "</table>\n",
              "</div>"
            ],
            "text/plain": [
              "   id                                           sentence difficulty\n",
              "0   0  Les coûts kilométriques réels peuvent diverger...         C1\n",
              "1   1  Le bleu, c'est ma couleur préférée mais je n'a...         A1\n",
              "2   2  Le test de niveau en français est sur le site ...         A1\n",
              "3   3           Est-ce que ton mari est aussi de Boston?         A1\n",
              "4   4  Dans les écoles de commerce, dans les couloirs...         B1"
            ]
          },
          "metadata": {},
          "execution_count": 223
        }
      ]
    },
    {
      "cell_type": "markdown",
      "metadata": {
        "id": "fCANeI34D-l0"
      },
      "source": [
        "We get some informations about the Training Data in order to see how good they are."
      ]
    },
    {
      "cell_type": "code",
      "metadata": {
        "colab": {
          "base_uri": "https://localhost:8080/"
        },
        "id": "DRz_PoSZ4vGf",
        "outputId": "e8d975cb-cb36-45e5-c080-0dad85fb74aa"
      },
      "source": [
        "Training_Data.info()"
      ],
      "execution_count": 224,
      "outputs": [
        {
          "output_type": "stream",
          "name": "stdout",
          "text": [
            "<class 'pandas.core.frame.DataFrame'>\n",
            "RangeIndex: 4800 entries, 0 to 4799\n",
            "Data columns (total 3 columns):\n",
            " #   Column      Non-Null Count  Dtype \n",
            "---  ------      --------------  ----- \n",
            " 0   id          4800 non-null   int64 \n",
            " 1   sentence    4800 non-null   object\n",
            " 2   difficulty  4800 non-null   object\n",
            "dtypes: int64(1), object(2)\n",
            "memory usage: 112.6+ KB\n"
          ]
        }
      ]
    },
    {
      "cell_type": "code",
      "source": [
        "np.random.seed = 0"
      ],
      "metadata": {
        "id": "n36QE1U_ILHU"
      },
      "execution_count": 225,
      "outputs": []
    },
    {
      "cell_type": "code",
      "metadata": {
        "colab": {
          "base_uri": "https://localhost:8080/"
        },
        "id": "zkaocCH34v7s",
        "outputId": "409a4b6c-80f3-4cd9-e9e8-ae02aad5975f"
      },
      "source": [
        "# Base rate: the data-set is balanced\n",
        "Training_Data.difficulty.value_counts()/Training_Data.shape[0] #the baserate is 0.06973"
      ],
      "execution_count": 226,
      "outputs": [
        {
          "output_type": "execute_result",
          "data": {
            "text/plain": [
              "A1    0.169375\n",
              "C2    0.168125\n",
              "C1    0.166250\n",
              "B1    0.165625\n",
              "A2    0.165625\n",
              "B2    0.165000\n",
              "Name: difficulty, dtype: float64"
            ]
          },
          "metadata": {},
          "execution_count": 226
        }
      ]
    },
    {
      "cell_type": "markdown",
      "metadata": {
        "id": "HHYFSLHiT3OU"
      },
      "source": [
        "Then, we read the Test Data using also the download link."
      ]
    },
    {
      "cell_type": "code",
      "metadata": {
        "colab": {
          "base_uri": "https://localhost:8080/",
          "height": 112
        },
        "id": "mWD4kLmVUA3A",
        "outputId": "906f8d63-50bc-4355-81c7-e7539cab2e48"
      },
      "source": [
        "url = \"https://raw.githubusercontent.com/NFroehl/DMML2021_Nestle/main/data/unlabelled_test_data.csv\"\n",
        "Test_Data = pd.read_csv(url, delimiter=\",\")\n",
        "Test_Data.head(2)\n",
        "#Test_Data.sentence.shape"
      ],
      "execution_count": 227,
      "outputs": [
        {
          "output_type": "execute_result",
          "data": {
            "text/html": [
              "<div>\n",
              "<style scoped>\n",
              "    .dataframe tbody tr th:only-of-type {\n",
              "        vertical-align: middle;\n",
              "    }\n",
              "\n",
              "    .dataframe tbody tr th {\n",
              "        vertical-align: top;\n",
              "    }\n",
              "\n",
              "    .dataframe thead th {\n",
              "        text-align: right;\n",
              "    }\n",
              "</style>\n",
              "<table border=\"1\" class=\"dataframe\">\n",
              "  <thead>\n",
              "    <tr style=\"text-align: right;\">\n",
              "      <th></th>\n",
              "      <th>id</th>\n",
              "      <th>sentence</th>\n",
              "    </tr>\n",
              "  </thead>\n",
              "  <tbody>\n",
              "    <tr>\n",
              "      <th>0</th>\n",
              "      <td>0</td>\n",
              "      <td>Nous dûmes nous excuser des propos que nous eû...</td>\n",
              "    </tr>\n",
              "    <tr>\n",
              "      <th>1</th>\n",
              "      <td>1</td>\n",
              "      <td>Vous ne pouvez pas savoir le plaisir que j'ai ...</td>\n",
              "    </tr>\n",
              "  </tbody>\n",
              "</table>\n",
              "</div>"
            ],
            "text/plain": [
              "   id                                           sentence\n",
              "0   0  Nous dûmes nous excuser des propos que nous eû...\n",
              "1   1  Vous ne pouvez pas savoir le plaisir que j'ai ..."
            ]
          },
          "metadata": {},
          "execution_count": 227
        }
      ]
    },
    {
      "cell_type": "markdown",
      "source": [
        "##b) Vectorize Data"
      ],
      "metadata": {
        "id": "KFkF-FS2SQ1i"
      }
    },
    {
      "cell_type": "markdown",
      "source": [
        "To do the regression, even without cleaning the data, we need a tokenizer function."
      ],
      "metadata": {
        "id": "CeTkkgy_Q5In"
      }
    },
    {
      "cell_type": "code",
      "metadata": {
        "id": "DdoJTkyO5IdP"
      },
      "source": [
        "# Let's implement the tokenizer function:\n",
        "\n",
        "# Load French language model:\n",
        "sp = spacy.load('fr_core_news_sm')\n",
        "\n",
        "# Tokenizer function:\n",
        "def spacy_tokenizer1(sentence):\n",
        "    # Create token object, which is used to create documents with linguistic annotations.\n",
        "    mytokens = sp(sentence)\n",
        "    # Return list of tokens\n",
        "    return mytokens"
      ],
      "execution_count": 228,
      "outputs": []
    },
    {
      "cell_type": "markdown",
      "source": [
        "#2) Classification without Data Cleaning"
      ],
      "metadata": {
        "id": "XShv4w7nSeU-"
      }
    },
    {
      "cell_type": "markdown",
      "source": [
        "For each method, we will do hyperparametrization for the TfidVectorizer() function. We will do it on the analyzers word and char."
      ],
      "metadata": {
        "id": "G7dVMzNVxzuE"
      }
    },
    {
      "cell_type": "code",
      "source": [
        "# To compare all methods, we will create a list of accuracies depending on parameters and methods:\n",
        "TotalResult = []"
      ],
      "metadata": {
        "id": "qCr3SgtQzTUP"
      },
      "execution_count": 229,
      "outputs": []
    },
    {
      "cell_type": "markdown",
      "source": [
        "##a) Split Data"
      ],
      "metadata": {
        "id": "_eYvWw-kTBXH"
      }
    },
    {
      "cell_type": "code",
      "source": [
        "# Select features\n",
        "X = Training_Data['sentence'] # the features we want to analyze\n",
        "y = Training_Data['difficulty'] # the labels, or answers, we want to test against"
      ],
      "metadata": {
        "id": "WPuEQOxQUY0B"
      },
      "execution_count": 230,
      "outputs": []
    },
    {
      "cell_type": "code",
      "source": [
        "# Import train/test split function\n",
        "from sklearn.model_selection import train_test_split\n",
        "\n",
        "# Train/test splitting code\n",
        "X_train, X_test, y_train, y_test = train_test_split(X, y, test_size=0.2, random_state=72)"
      ],
      "metadata": {
        "id": "WCJcRAzPUTvQ"
      },
      "execution_count": 231,
      "outputs": []
    },
    {
      "cell_type": "markdown",
      "source": [
        "##b) Function to evaluate the following models"
      ],
      "metadata": {
        "id": "YJp2LbFNXYFI"
      }
    },
    {
      "cell_type": "code",
      "source": [
        "# Evaluate the models\n",
        "def evaluate(true, pred):\n",
        "    precision = precision_score(true, pred, average='micro')\n",
        "    recall = recall_score(true, pred, average='micro')\n",
        "    f1 = f1_score(true, pred, average='micro')\n",
        "    print(f\"CONFUSION MATRIX:\\n{confusion_matrix(true, pred)}\")\n",
        "    print(f\"ACCURACY SCORE:\\n{accuracy_score(true, pred):.4f}\")\n",
        "    print(f\"CLASSIFICATION REPORT:\\n\\tPrecision: {precision:.4f}\\n\\tRecall: {recall:.4f}\\n\\tF1_Score: {f1:.4f}\")"
      ],
      "metadata": {
        "id": "mzlltioEXg4u"
      },
      "execution_count": 232,
      "outputs": []
    },
    {
      "cell_type": "markdown",
      "metadata": {
        "id": "exzyB7GJ8j-9"
      },
      "source": [
        "##c) Classification of the reviews using Logistic Regression"
      ]
    },
    {
      "cell_type": "code",
      "source": [
        "from sklearn.linear_model import LogisticRegression\n",
        "from sklearn.pipeline import Pipeline\n",
        "\n",
        "# Define list for result\n",
        "analyzer = ['word', 'char']\n",
        "result = []\n",
        "\n",
        "for x in analyzer:\n",
        "\n",
        "    # Redefine vectorizer\n",
        "    tfidf_vector = TfidfVectorizer(tokenizer=spacy_tokenizer1, \n",
        "                                   analyzer=x)\n",
        "\n",
        "    # Define classifier\n",
        "    classifier = LogisticRegression()\n",
        "\n",
        "    # Create pipeline\n",
        "    pipe = Pipeline([('vectorizer', tfidf_vector),\n",
        "                 ('classifier', classifier)])\n",
        "\n",
        "    # Fit model on training set\n",
        "    pipe.fit(X_train, y_train)\n",
        "\n",
        "    # Predictions\n",
        "    y_pred = pipe.predict(X_test)\n",
        "\n",
        "    # Print accuracy on test set\n",
        "    print(\"Analyzer: \", x)\n",
        "    evaluate(y_test, y_pred)\n",
        "    print(\"-----------------------\")\n",
        "\n",
        "    # Append to result\n",
        "    result.append([x, accuracy_score(y_test, y_pred)])"
      ],
      "metadata": {
        "colab": {
          "base_uri": "https://localhost:8080/"
        },
        "id": "kcY0JBJkpZ_Z",
        "outputId": "4cd44546-3224-4f97-b77e-4479e74e6967"
      },
      "execution_count": 233,
      "outputs": [
        {
          "output_type": "stream",
          "name": "stdout",
          "text": [
            "Analyzer:  word\n",
            "CONFUSION MATRIX:\n",
            "[[  0   0   0   0   0 174]\n",
            " [  0   0   0   0   0 161]\n",
            " [  0   0   0   0   0 159]\n",
            " [  0   0   0   0   0 154]\n",
            " [  0   0   0   0   0 160]\n",
            " [  0   0   0   0   0 152]]\n",
            "ACCURACY SCORE:\n",
            "0.1583\n",
            "CLASSIFICATION REPORT:\n",
            "\tPrecision: 0.1583\n",
            "\tRecall: 0.1583\n",
            "\tF1_Score: 0.1583\n",
            "-----------------------\n",
            "Analyzer:  char\n",
            "CONFUSION MATRIX:\n",
            "[[113  25  17  12   2   5]\n",
            " [ 38  57  43   8   4  11]\n",
            " [ 17  31  54  21  12  24]\n",
            " [ 11   1  11  51  34  46]\n",
            " [  1   1  10  35  59  54]\n",
            " [  4   2   9  18  26  93]]\n",
            "ACCURACY SCORE:\n",
            "0.4448\n",
            "CLASSIFICATION REPORT:\n",
            "\tPrecision: 0.4448\n",
            "\tRecall: 0.4448\n",
            "\tF1_Score: 0.4448\n",
            "-----------------------\n"
          ]
        },
        {
          "output_type": "stream",
          "name": "stderr",
          "text": [
            "/usr/local/lib/python3.7/dist-packages/sklearn/linear_model/_logistic.py:818: ConvergenceWarning: lbfgs failed to converge (status=1):\n",
            "STOP: TOTAL NO. of ITERATIONS REACHED LIMIT.\n",
            "\n",
            "Increase the number of iterations (max_iter) or scale the data as shown in:\n",
            "    https://scikit-learn.org/stable/modules/preprocessing.html\n",
            "Please also refer to the documentation for alternative solver options:\n",
            "    https://scikit-learn.org/stable/modules/linear_model.html#logistic-regression\n",
            "  extra_warning_msg=_LOGISTIC_SOLVER_CONVERGENCE_MSG,\n"
          ]
        }
      ]
    },
    {
      "cell_type": "code",
      "source": [
        "TotalResult.append(result)\n",
        "result"
      ],
      "metadata": {
        "colab": {
          "base_uri": "https://localhost:8080/"
        },
        "id": "vSEM7z1xv47p",
        "outputId": "1b2ad958-68b2-43d4-9921-11dbe8b928b1"
      },
      "execution_count": 234,
      "outputs": [
        {
          "output_type": "execute_result",
          "data": {
            "text/plain": [
              "[['word', 0.15833333333333333], ['char', 0.44479166666666664]]"
            ]
          },
          "metadata": {},
          "execution_count": 234
        }
      ]
    },
    {
      "cell_type": "markdown",
      "metadata": {
        "id": "yqeWpXWdJkEJ"
      },
      "source": [
        "##d) Classification of the reviews using KNN Regression"
      ]
    },
    {
      "cell_type": "markdown",
      "source": [
        "First, we tun hyperparameters with GridSearch (for n_neighbors, p and weights)."
      ],
      "metadata": {
        "id": "fCHh0TBVvrFa"
      }
    },
    {
      "cell_type": "code",
      "source": [
        "from sklearn.neighbors import KNeighborsClassifier\n",
        "from sklearn.model_selection import GridSearchCV\n",
        "from sklearn.pipeline import Pipeline\n",
        "\n",
        "# Define parameters to test\n",
        "grid = {'n_neighbors':np.arange(1,7),\n",
        "        'p':np.arange(1,3),\n",
        "        'weights':['uniform','distance']\n",
        "       }\n",
        "\n",
        "# Define and fit model\n",
        "knn = KNeighborsClassifier()\n",
        "knn_cv = GridSearchCV(knn, grid, cv=10)\n",
        "pipe = Pipeline([('vectorizer', tfidf_vector),\n",
        "                 ('classifier', knn_cv)])\n",
        "pipe.fit(X_train, y_train)\n",
        "\n",
        "nb = knn_cv.best_params_['n_neighbors']\n",
        "p = knn_cv.best_params_['p']\n",
        "w = knn_cv.best_params_['weights']\n",
        "\n",
        "# Print results\n",
        "print(\"Hyperparameters:\", knn_cv.best_params_)\n",
        "print(\"Train Score:\", round(knn_cv.best_score_, 4))"
      ],
      "metadata": {
        "colab": {
          "base_uri": "https://localhost:8080/"
        },
        "id": "Ubm37eZvvtC7",
        "outputId": "ab39e7f7-a791-4f37-8bb6-4ad4deb472df"
      },
      "execution_count": 235,
      "outputs": [
        {
          "output_type": "stream",
          "name": "stdout",
          "text": [
            "Hyperparameters: {'n_neighbors': 4, 'p': 1, 'weights': 'distance'}\n",
            "Train Score: 0.3539\n"
          ]
        }
      ]
    },
    {
      "cell_type": "markdown",
      "source": [
        "And we do the regression with the best parameters."
      ],
      "metadata": {
        "id": "zPACyA0-zET2"
      }
    },
    {
      "cell_type": "code",
      "source": [
        "# Define list for result\n",
        "analyzer = ['word', 'char']\n",
        "result = []\n",
        "\n",
        "for x in analyzer:\n",
        "\n",
        "    # Redefine vectorizer\n",
        "    tfidf_vector = TfidfVectorizer(tokenizer=spacy_tokenizer1, \n",
        "                                   analyzer=x)\n",
        "\n",
        "    # Define classifier\n",
        "    classifier = KNeighborsClassifier(n_neighbors=nb, p = p, weights = w)\n",
        "\n",
        "    # Create pipeline\n",
        "    pipe = Pipeline([('vectorizer', tfidf_vector),\n",
        "                 ('classifier', classifier)])\n",
        "\n",
        "    # Fit model on training set\n",
        "    pipe.fit(X_train, y_train)\n",
        "\n",
        "    # Predictions\n",
        "    y_pred = pipe.predict(X_test)\n",
        "\n",
        "    # Print accuracy on test set\n",
        "    print(\"Analyzer: \", x)\n",
        "    evaluate(y_test, y_pred)\n",
        "    print(\"-----------------------\")\n",
        "\n",
        "    # Append to result\n",
        "    result.append([x, accuracy_score(y_test, y_pred)])"
      ],
      "metadata": {
        "colab": {
          "base_uri": "https://localhost:8080/"
        },
        "id": "tMiU3jWF0GsY",
        "outputId": "f34239d3-38f7-4674-9b50-33322af62a2f"
      },
      "execution_count": 236,
      "outputs": [
        {
          "output_type": "stream",
          "name": "stdout",
          "text": [
            "Analyzer:  word\n",
            "CONFUSION MATRIX:\n",
            "[[174   0   0   0   0   0]\n",
            " [161   0   0   0   0   0]\n",
            " [159   0   0   0   0   0]\n",
            " [154   0   0   0   0   0]\n",
            " [160   0   0   0   0   0]\n",
            " [152   0   0   0   0   0]]\n",
            "ACCURACY SCORE:\n",
            "0.1812\n",
            "CLASSIFICATION REPORT:\n",
            "\tPrecision: 0.1812\n",
            "\tRecall: 0.1812\n",
            "\tF1_Score: 0.1813\n",
            "-----------------------\n",
            "Analyzer:  char\n",
            "CONFUSION MATRIX:\n",
            "[[84 38 27  7  6 12]\n",
            " [28 50 39 21 11 12]\n",
            " [23 25 39 31 21 20]\n",
            " [ 4 10 20 31 47 42]\n",
            " [ 3  4 14 22 54 63]\n",
            " [ 1  4  7 18 46 76]]\n",
            "ACCURACY SCORE:\n",
            "0.3479\n",
            "CLASSIFICATION REPORT:\n",
            "\tPrecision: 0.3479\n",
            "\tRecall: 0.3479\n",
            "\tF1_Score: 0.3479\n",
            "-----------------------\n"
          ]
        }
      ]
    },
    {
      "cell_type": "code",
      "source": [
        "TotalResult.append(result)\n",
        "result"
      ],
      "metadata": {
        "colab": {
          "base_uri": "https://localhost:8080/"
        },
        "id": "yT9AgTRq0ro0",
        "outputId": "d6982245-2be0-4c08-8f62-447650718a22"
      },
      "execution_count": 237,
      "outputs": [
        {
          "output_type": "execute_result",
          "data": {
            "text/plain": [
              "[['word', 0.18125], ['char', 0.34791666666666665]]"
            ]
          },
          "metadata": {},
          "execution_count": 237
        }
      ]
    },
    {
      "cell_type": "markdown",
      "metadata": {
        "id": "VVw0lRgtRPAd"
      },
      "source": [
        "##e) Classification of the reviews using Decision Tree Regression"
      ]
    },
    {
      "cell_type": "markdown",
      "source": [
        "First, we tun hyperparameters with GridSearch (for depth)."
      ],
      "metadata": {
        "id": "-AI-DDQItF7N"
      }
    },
    {
      "cell_type": "code",
      "source": [
        "from sklearn.tree import DecisionTreeClassifier\n",
        "from sklearn.model_selection import GridSearchCV\n",
        "from sklearn.pipeline import Pipeline\n",
        "\n",
        "# Grid Search - tuning tree depth\n",
        "\n",
        "# Define parameter to test\n",
        "grid = {'max_depth':np.arange(1,10)}\n",
        "\n",
        "# Define and fit model\n",
        "\n",
        "tree = DecisionTreeClassifier()\n",
        "tree_cv = GridSearchCV(tree, grid, cv=5)\n",
        "\n",
        "pipe = Pipeline([('vectorizer', tfidf_vector),\n",
        "                 ('classifier', tree_cv)])\n",
        "pipe.fit(X_train, y_train)\n",
        "\n",
        "d = tree_cv.best_params_\n",
        "\n",
        "# Print results\n",
        "print(\"Hyperparameters:\", tree_cv.best_params_)\n",
        "print(\"Train Score:\", round(tree_cv.best_score_, 4))"
      ],
      "metadata": {
        "colab": {
          "base_uri": "https://localhost:8080/"
        },
        "id": "Z8nZpkHytaqZ",
        "outputId": "e95b22fa-bd9b-47c4-f5fc-a10aa87cae79"
      },
      "execution_count": 238,
      "outputs": [
        {
          "output_type": "stream",
          "name": "stdout",
          "text": [
            "Hyperparameters: {'max_depth': 5}\n",
            "Train Score: 0.3583\n"
          ]
        }
      ]
    },
    {
      "cell_type": "markdown",
      "source": [
        "And we do the regression with the best parameter."
      ],
      "metadata": {
        "id": "zhmdsMswuBw-"
      }
    },
    {
      "cell_type": "code",
      "source": [
        "# Define list for result\n",
        "analyzer = ['word', 'char']\n",
        "result = []\n",
        "\n",
        "for x in analyzer:\n",
        "\n",
        "    # Redefine vectorizer\n",
        "    tfidf_vector = TfidfVectorizer(tokenizer=spacy_tokenizer1, \n",
        "                                   analyzer=x)\n",
        "\n",
        "    # Define classifier\n",
        "    classifier = DecisionTreeClassifier(max_depth=6, random_state=72) #best parameter we found\n",
        "\n",
        "    # Create pipeline\n",
        "    pipe = Pipeline([('vectorizer', tfidf_vector),\n",
        "                 ('classifier', classifier)])\n",
        "\n",
        "    # Fit model on training set\n",
        "    pipe.fit(X_train, y_train)\n",
        "\n",
        "    # Predictions\n",
        "    y_pred = pipe.predict(X_test)\n",
        "\n",
        "    # Print accuracy on test set\n",
        "    print(\"Analyzer: \", x)\n",
        "    evaluate(y_test, y_pred)\n",
        "    print(\"-----------------------\")\n",
        "\n",
        "    # Append to result\n",
        "    result.append([x, accuracy_score(y_test, y_pred)])"
      ],
      "metadata": {
        "colab": {
          "base_uri": "https://localhost:8080/"
        },
        "id": "ZrCUF1o1009u",
        "outputId": "40e0c74e-3ce2-4f76-ddd3-173591f343f2"
      },
      "execution_count": 239,
      "outputs": [
        {
          "output_type": "stream",
          "name": "stdout",
          "text": [
            "Analyzer:  word\n",
            "CONFUSION MATRIX:\n",
            "[[  0   0   0   0   0 174]\n",
            " [  0   0   0   0   0 161]\n",
            " [  0   0   0   0   0 159]\n",
            " [  0   0   0   0   0 154]\n",
            " [  0   0   0   0   0 160]\n",
            " [  0   0   0   0   0 152]]\n",
            "ACCURACY SCORE:\n",
            "0.1583\n",
            "CLASSIFICATION REPORT:\n",
            "\tPrecision: 0.1583\n",
            "\tRecall: 0.1583\n",
            "\tF1_Score: 0.1583\n",
            "-----------------------\n",
            "Analyzer:  char\n",
            "CONFUSION MATRIX:\n",
            "[[84 43 40  4  0  3]\n",
            " [31 44 74  9  0  3]\n",
            " [ 8 23 99 13 12  4]\n",
            " [ 4  6 45 40 40 19]\n",
            " [ 2  3 29 30 63 33]\n",
            " [ 1  2 29 13 52 55]]\n",
            "ACCURACY SCORE:\n",
            "0.4010\n",
            "CLASSIFICATION REPORT:\n",
            "\tPrecision: 0.4010\n",
            "\tRecall: 0.4010\n",
            "\tF1_Score: 0.4010\n",
            "-----------------------\n"
          ]
        }
      ]
    },
    {
      "cell_type": "code",
      "source": [
        "TotalResult.append(result)\n",
        "result"
      ],
      "metadata": {
        "colab": {
          "base_uri": "https://localhost:8080/"
        },
        "id": "MNzKZoLE1bC3",
        "outputId": "43ab379f-a7ba-4033-8220-d157f11e2060"
      },
      "execution_count": 240,
      "outputs": [
        {
          "output_type": "execute_result",
          "data": {
            "text/plain": [
              "[['word', 0.15833333333333333], ['char', 0.4010416666666667]]"
            ]
          },
          "metadata": {},
          "execution_count": 240
        }
      ]
    },
    {
      "cell_type": "markdown",
      "source": [
        "##f) Classification of the reviews using Random Forest Regression"
      ],
      "metadata": {
        "id": "hQgnfaQAbHm-"
      }
    },
    {
      "cell_type": "code",
      "source": [
        "from sklearn.ensemble import RandomForestClassifier\n",
        "from sklearn.pipeline import Pipeline\n",
        "\n",
        "# Define list for result\n",
        "analyzer = ['word', 'char']\n",
        "result = []\n",
        "\n",
        "for x in analyzer:\n",
        "\n",
        "    # Redefine vectorizer\n",
        "    tfidf_vector = TfidfVectorizer(tokenizer=spacy_tokenizer1, \n",
        "                                   analyzer=x)\n",
        "\n",
        "    # Define classifier\n",
        "    classifier = RandomForestClassifier(n_estimators=100)\n",
        "\n",
        "    # Create pipeline\n",
        "    pipe = Pipeline([('vectorizer', tfidf_vector),\n",
        "                 ('classifier', classifier)])\n",
        "\n",
        "    # Fit model on training set\n",
        "    pipe.fit(X_train, y_train)\n",
        "\n",
        "    # Predictions\n",
        "    y_pred = pipe.predict(X_test)\n",
        "\n",
        "    # Print accuracy on test set\n",
        "    print(\"Analyzer: \", x)\n",
        "    evaluate(y_test, y_pred)\n",
        "    print(\"-----------------------\")\n",
        "\n",
        "    # Append to result\n",
        "    result.append([x, accuracy_score(y_test, y_pred)])"
      ],
      "metadata": {
        "colab": {
          "base_uri": "https://localhost:8080/"
        },
        "id": "DbHLIFAa1nfw",
        "outputId": "012fa57d-f794-4058-cd8b-75d73b455660"
      },
      "execution_count": 241,
      "outputs": [
        {
          "output_type": "stream",
          "name": "stdout",
          "text": [
            "Analyzer:  word\n",
            "CONFUSION MATRIX:\n",
            "[[  0   0   0   0   0 174]\n",
            " [  0   0   0   0   0 161]\n",
            " [  0   0   0   0   0 159]\n",
            " [  0   0   0   0   0 154]\n",
            " [  0   0   0   0   0 160]\n",
            " [  0   0   0   0   0 152]]\n",
            "ACCURACY SCORE:\n",
            "0.1583\n",
            "CLASSIFICATION REPORT:\n",
            "\tPrecision: 0.1583\n",
            "\tRecall: 0.1583\n",
            "\tF1_Score: 0.1583\n",
            "-----------------------\n",
            "Analyzer:  char\n",
            "CONFUSION MATRIX:\n",
            "[[116  36  16   2   2   2]\n",
            " [ 44  63  42   6   2   4]\n",
            " [ 23  41  53  19  12  11]\n",
            " [  9   9  17  57  43  19]\n",
            " [  3   2  12  38  64  41]\n",
            " [  4   4  11  25  31  77]]\n",
            "ACCURACY SCORE:\n",
            "0.4479\n",
            "CLASSIFICATION REPORT:\n",
            "\tPrecision: 0.4479\n",
            "\tRecall: 0.4479\n",
            "\tF1_Score: 0.4479\n",
            "-----------------------\n"
          ]
        }
      ]
    },
    {
      "cell_type": "code",
      "source": [
        "TotalResult.append(result)\n",
        "result"
      ],
      "metadata": {
        "colab": {
          "base_uri": "https://localhost:8080/"
        },
        "id": "bQQQgXcp2Rrb",
        "outputId": "6304831a-2daa-42f3-f539-123f5ececc7b"
      },
      "execution_count": 242,
      "outputs": [
        {
          "output_type": "execute_result",
          "data": {
            "text/plain": [
              "[['word', 0.15833333333333333], ['char', 0.4479166666666667]]"
            ]
          },
          "metadata": {},
          "execution_count": 242
        }
      ]
    },
    {
      "cell_type": "markdown",
      "source": [
        "##g) Results"
      ],
      "metadata": {
        "id": "kS5-TBZ82TlN"
      }
    },
    {
      "cell_type": "markdown",
      "source": [
        "Let's compare our previous results to choose which method we are going to keep for the next part (with data cleaning)."
      ],
      "metadata": {
        "id": "Gzd49wLN2iVi"
      }
    },
    {
      "cell_type": "code",
      "source": [
        "# I import the library that I need to plot :\n",
        "import matplotlib.pyplot as plt\n",
        "\n",
        "# I build the lists which contains the accuracy for each method :\n",
        "n = len(TotalResult)\n",
        "TestAccuracyWord = [TotalResult[i][0][1] for i in range(n)]\n",
        "TestAccuracyChar = [TotalResult[i][1][1] for i in range(n)]\n",
        "x = [i for i in range(1,n+1)]\n",
        "\n",
        "# I plot the lists and I put a name for each point :\n",
        "labels = ['Logistic', 'KNN', 'DecTree', 'RandForest']\n",
        "\n",
        "plt.title('Accuracy')\n",
        "plt.plot(x, TestAccuracyWord, label = 'Word')\n",
        "plt.plot(x, TestAccuracyChar, label = 'Char')\n",
        "plt.legend()\n",
        "plt.xticks(x, labels, rotation = 45)\n",
        "\n",
        "plt.show()"
      ],
      "metadata": {
        "colab": {
          "base_uri": "https://localhost:8080/",
          "height": 318
        },
        "id": "lAL9O0hB2yRj",
        "outputId": "8848049e-7e19-4555-e7e4-3c56c05d6380"
      },
      "execution_count": 243,
      "outputs": [
        {
          "output_type": "display_data",
          "data": {
            "image/png": "[encoded data removed]",
            "text/plain": [
              "<Figure size 432x288 with 1 Axes>"
            ]
          },
          "metadata": {
            "needs_background": "light"
          }
        }
      ]
    },
    {
      "cell_type": "code",
      "source": [
        "TotalResult"
      ],
      "metadata": {
        "colab": {
          "base_uri": "https://localhost:8080/"
        },
        "id": "2OZz3_8v5eVj",
        "outputId": "536baf3c-501c-49da-c97f-b316ab5efc6e"
      },
      "execution_count": 244,
      "outputs": [
        {
          "output_type": "execute_result",
          "data": {
            "text/plain": [
              "[[['word', 0.15833333333333333], ['char', 0.44479166666666664]],\n",
              " [['word', 0.18125], ['char', 0.34791666666666665]],\n",
              " [['word', 0.15833333333333333], ['char', 0.4010416666666667]],\n",
              " [['word', 0.15833333333333333], ['char', 0.4479166666666667]]]"
            ]
          },
          "metadata": {},
          "execution_count": 244
        }
      ]
    },
    {
      "cell_type": "markdown",
      "source": [
        "According to the list and the graph, we decide to continue to work with Logistic Regression and Analyzer = 'char'. Random Forest has also a very good accuracy. Maybe we will try it too."
      ],
      "metadata": {
        "id": "Z-BF-mFW5jwJ"
      }
    },
    {
      "cell_type": "markdown",
      "source": [
        "#3) Classification with Data Cleaning"
      ],
      "metadata": {
        "id": "UOBzI0sX53a9"
      }
    },
    {
      "cell_type": "markdown",
      "source": [
        "##a) Data Cleaning function et vectorization"
      ],
      "metadata": {
        "id": "XqiTex2K6GN6"
      }
    },
    {
      "cell_type": "markdown",
      "source": [
        "We use nltk package for cleaning"
      ],
      "metadata": {
        "id": "hsU9-k_XLkja"
      }
    },
    {
      "cell_type": "code",
      "source": [
        "#other tokenizer function\n",
        "\n",
        "#celle là est meilleure\n",
        "import re\n",
        "import nltk\n",
        "nltk.download('stopwords')\n",
        "nltk.download('punkt')\n",
        "from nltk.corpus import stopwords\n",
        "\n",
        "\n",
        "# Define cleaning function\n",
        "def data_cleaner(sms):\n",
        "\n",
        "    # Define stopwords\n",
        "    stop_words = stopwords.words('french')\n",
        "\n",
        "    # Define tokenizer and stemmer\n",
        "    from nltk.tokenize import word_tokenize\n",
        "    from nltk.stem import PorterStemmer\n",
        "    \n",
        "    # Remove digits\n",
        "    sms = re.sub(r\"\\d+\",\"\", sms)\n",
        "    \n",
        "    # Lowercase\n",
        "    sms = sms.lower()\n",
        "    \n",
        "    # Remove punctuation\n",
        "    sms = re.sub(r\"[^\\w\\s\\d]\",\"\", sms)\n",
        "\n",
        "   # Remove stop words\n",
        "    sms = sms.split()\n",
        "    sms = \" \".join([word for word in sms if not word in stop_words])\n",
        "    \n",
        "    # Tokenize\n",
        "    sms = word_tokenize(sms)\n",
        "    \n",
        "    # Stemming\n",
        "    ps = PorterStemmer()\n",
        "    sms = [ps.stem(word) for word in sms]\n",
        "    \n",
        "    return sms "
      ],
      "metadata": {
        "colab": {
          "base_uri": "https://localhost:8080/"
        },
        "id": "VbFufAzJS1tA",
        "outputId": "5363e016-61cd-4cd6-e2ba-0833c267e13e"
      },
      "execution_count": 246,
      "outputs": [
        {
          "output_type": "stream",
          "name": "stdout",
          "text": [
            "[nltk_data] Downloading package stopwords to /root/nltk_data...\n",
            "[nltk_data]   Package stopwords is already up-to-date!\n",
            "[nltk_data] Downloading package punkt to /root/nltk_data...\n",
            "[nltk_data]   Package punkt is already up-to-date!\n"
          ]
        }
      ]
    },
    {
      "cell_type": "code",
      "source": [
        "#Clean X_train \n",
        "X_train.apply(data_cleaner)"
      ],
      "metadata": {
        "colab": {
          "base_uri": "https://localhost:8080/"
        },
        "id": "uJg9g117HYZ2",
        "outputId": "5a028397-4557-4f26-a359-605c4ad11de1"
      },
      "execution_count": 247,
      "outputs": [
        {
          "output_type": "execute_result",
          "data": {
            "text/plain": [
              "3925    [jai, vu, cett, grand, imag, litali, relev, fa...\n",
              "2070    [cett, somm, comprend, dépens, délectricité, c...\n",
              "4211                 [ira, voir, maman, semain, prochain]\n",
              "1452    [cadr, dune, recherch, sociolinguistiqu, urbai...\n",
              "1881                                   [just, petit, peu]\n",
              "                              ...                        \n",
              "3079    [aristocr, naissanc, haîssait, instinct, quatr...\n",
              "3951                                         [jai, froid]\n",
              "2885    [rien, dextraordinair, quand, vit, sud, leurop...\n",
              "3941    [éclair, cett, lueur, chemin, crépusculair, mè...\n",
              "4568    [quartier, certain, voisin, sentend, ouvrir, p...\n",
              "Name: sentence, Length: 3840, dtype: object"
            ]
          },
          "metadata": {},
          "execution_count": 247
        }
      ]
    },
    {
      "cell_type": "markdown",
      "source": [
        "It is not perfect mais already great. We further use DOC2VEC to vectorize"
      ],
      "metadata": {
        "id": "Ds9LwiLfLxOJ"
      }
    },
    {
      "cell_type": "code",
      "source": [
        "#\n",
        "from gensim.models.doc2vec import TaggedDocument\n",
        "sample_tagged = Training_Data.apply(lambda r: TaggedDocument(words=data_cleaner(r['sentence']), tags=[r.difficulty]),axis=1)\n",
        "#test_tagged = Test_Data.apply(lambda r: TaggedDocument(words=data_cleaner(r['sentence']), tags = None), axis=1)\n"
      ],
      "metadata": {
        "id": "0XcLknLezdJC"
      },
      "execution_count": 248,
      "outputs": []
    },
    {
      "cell_type": "code",
      "source": [
        "sample_tagged.values[10]"
      ],
      "metadata": {
        "colab": {
          "base_uri": "https://localhost:8080/"
        },
        "id": "5SLxy8iXYOCN",
        "outputId": "6a580640-2a12-4691-c2b5-78f4addb6723"
      },
      "execution_count": 249,
      "outputs": [
        {
          "output_type": "execute_result",
          "data": {
            "text/plain": [
              "TaggedDocument(words=['bonjour', 'bonn', 'anné'], tags=['A1'])"
            ]
          },
          "metadata": {},
          "execution_count": 249
        }
      ]
    },
    {
      "cell_type": "code",
      "source": [
        "# Train test split - same split as before\n",
        "train_tagged, test_tagged = train_test_split(sample_tagged, test_size=0.2, random_state=1234)"
      ],
      "metadata": {
        "id": "ujl_d8HbxLWm"
      },
      "execution_count": 250,
      "outputs": []
    },
    {
      "cell_type": "code",
      "source": [
        "test_tagged"
      ],
      "metadata": {
        "colab": {
          "base_uri": "https://localhost:8080/"
        },
        "id": "aGR4O4PrYZyQ",
        "outputId": "71ff1bfe-97af-4ec2-ca5f-166cd9e289af"
      },
      "execution_count": 251,
      "outputs": [
        {
          "output_type": "execute_result",
          "data": {
            "text/plain": [
              "4448    ([avant, laisser, parol, monsieur, servat, sau...\n",
              "3022    ([quand, reviendrai, joffrirai, beaucoup, damo...\n",
              "827                         ([beau, succè, destim], [C1])\n",
              "1745    ([clore, cett, monographi, café, constantinopo...\n",
              "4202    ([lune, plu, emblématiqu, mari, sophi, germain...\n",
              "                              ...                        \n",
              "3640                 ([jai, mangé, hamburg, frite], [A1])\n",
              "2229    ([organisé, loccas, e, anniversair, mort, poèt...\n",
              "319     ([noter, lapprentissag, grammair, français, ob...\n",
              "4697    ([lorigin, politiqu, sen, modern, mot, europ, ...\n",
              "1416    ([grand, maison, chien, poisson, deux, chat], ...\n",
              "Length: 960, dtype: object"
            ]
          },
          "metadata": {},
          "execution_count": 251
        }
      ]
    },
    {
      "cell_type": "code",
      "source": [
        "# Allows to speed up a bit\n",
        "import multiprocessing\n",
        "cores = multiprocessing.cpu_count()"
      ],
      "metadata": {
        "id": "irmVvdz4xBJz"
      },
      "execution_count": 252,
      "outputs": []
    },
    {
      "cell_type": "code",
      "source": [
        "\n",
        "# Define Doc2Vec and build vocabulary\n",
        "from gensim.models import Doc2Vec\n",
        "\n",
        "model_dbow = Doc2Vec(dm=0, vector_size=30, negative=6, hs=0, min_count=1, sample=0, workers=cores, epoch=300)\n",
        "model_dbow.build_vocab([x for x in sample_tagged.values])\n"
      ],
      "metadata": {
        "id": "6GZksW4dw5qS"
      },
      "execution_count": 253,
      "outputs": []
    },
    {
      "cell_type": "markdown",
      "source": [
        "We now train the distributed bag of words model. In short, it trains a neural network and the optimal weights are the coefficients of the vectors of the documents. Therefore, similar documents will be close to each other in the N-dimentional space (N being the size of the vectors)."
      ],
      "metadata": {
        "id": "Zj9Eeyt4Yrwr"
      }
    },
    {
      "cell_type": "code",
      "source": [
        "# Train distributed Bag of Word model\n",
        "model_dbow.train(sample_tagged, total_examples=model_dbow.corpus_count, epochs=model_dbow.epochs)"
      ],
      "metadata": {
        "id": "UOrAmzw96vo_"
      },
      "execution_count": 254,
      "outputs": []
    },
    {
      "cell_type": "code",
      "source": [
        "# Select X and y\n",
        "def vec_for_learning(model, tagged_docs):\n",
        "    sents = tagged_docs.values\n",
        "    targets, regressors = zip(*[(doc.tags[0], model.infer_vector(doc.words, steps=100)) for doc in sents])\n",
        "    return targets, regressors\n",
        "    \n",
        "y_train, X_train = vec_for_learning(model_dbow, train_tagged)\n",
        "y_test, X_test = vec_for_learning(model_dbow, test_tagged)"
      ],
      "metadata": {
        "id": "GRZe4FAg64Oe"
      },
      "execution_count": 255,
      "outputs": []
    },
    {
      "cell_type": "code",
      "source": [
        "X_train[:2]"
      ],
      "metadata": {
        "colab": {
          "base_uri": "https://localhost:8080/"
        },
        "id": "BgqsvLziZJdP",
        "outputId": "990efdb3-f979-41e8-b103-58b7d44b1b51"
      },
      "execution_count": 256,
      "outputs": [
        {
          "output_type": "execute_result",
          "data": {
            "text/plain": [
              "(array([ 0.45130193, -0.00456627,  0.4897842 , -0.47425115, -0.6346759 ,\n",
              "         1.4173802 ,  0.37663952, -0.8962783 , -1.1287858 ,  0.54514503,\n",
              "        -0.93053687,  1.091367  , -1.69588   ,  0.8894113 , -0.20300531,\n",
              "         0.9029507 ,  0.54808605,  0.19763283, -0.6599458 , -0.08869366,\n",
              "         0.5209002 , -0.84276456, -0.27474204,  1.4353262 ,  0.24260049,\n",
              "         0.48954898, -0.39823252, -0.33914727,  0.28934687, -0.6355274 ],\n",
              "       dtype=float32),\n",
              " array([ 0.44197   , -0.1804826 ,  0.64520806, -0.4110789 , -0.8712233 ,\n",
              "         1.2134622 ,  0.6077104 , -0.7538035 , -0.56493276,  0.53218967,\n",
              "        -1.0820745 ,  1.1752875 , -1.411636  ,  0.5838171 , -0.23998481,\n",
              "         1.0389953 ,  0.48837554, -0.13878368, -0.43517706, -0.11196656,\n",
              "         0.69720507, -0.9866815 , -0.20038159,  1.4116933 ,  0.6155288 ,\n",
              "         0.03276075, -0.48087478, -0.06343427,  0.5571027 , -0.6628881 ],\n",
              "       dtype=float32))"
            ]
          },
          "metadata": {},
          "execution_count": 256
        }
      ]
    },
    {
      "cell_type": "markdown",
      "source": [
        "## b) Logistic Regression with DOC2VEC"
      ],
      "metadata": {
        "id": "dBDjGev8bpHK"
      }
    },
    {
      "cell_type": "code",
      "source": [
        "# Fit model on training set\n",
        "logreg = LogisticRegression(max_iter=1000, solver='lbfgs')\n",
        "logreg.fit(X_train, y_train)\n",
        "\n",
        "# Predictions\n",
        "y_pred = logreg.predict(X_test)"
      ],
      "metadata": {
        "id": "RBSo72HQEzqk"
      },
      "execution_count": 257,
      "outputs": []
    },
    {
      "cell_type": "code",
      "source": [
        "# Print accuracy on test set \n",
        "evaluate(y_test, y_pred)\n",
        "#we have an accuracy of 0.7333"
      ],
      "metadata": {
        "colab": {
          "base_uri": "https://localhost:8080/"
        },
        "id": "eYUX424IcCOG",
        "outputId": "060ff836-ab21-4cd2-fd0b-dcb3b87b145d"
      },
      "execution_count": 258,
      "outputs": [
        {
          "output_type": "stream",
          "name": "stdout",
          "text": [
            "CONFUSION MATRIX:\n",
            "[[124  27  12   2   1   0]\n",
            " [ 40  89  25   1   1   0]\n",
            " [ 17  29 111   9   0   1]\n",
            " [  3   1  14 115  16   6]\n",
            " [  2   4   1  16 126   8]\n",
            " [  0   1   5   8   6 139]]\n",
            "ACCURACY SCORE:\n",
            "0.7333\n",
            "CLASSIFICATION REPORT:\n",
            "\tPrecision: 0.7333\n",
            "\tRecall: 0.7333\n",
            "\tF1_Score: 0.7333\n"
          ]
        }
      ]
    },
    {
      "cell_type": "markdown",
      "source": [
        "#4) Final Classifation for Kaggle"
      ],
      "metadata": {
        "id": "qE_vL4j1diHg"
      }
    },
    {
      "cell_type": "markdown",
      "source": [
        "To get a better accuracy, we use the whole Train Data to do the final regression.\n"
      ],
      "metadata": {
        "id": "gpJ6HExvdpDG"
      }
    },
    {
      "cell_type": "code",
      "source": [
        "# Train distributed Bag of Word model\n",
        "model_dbow.train(sample_tagged, total_examples=model_dbow.corpus_count, epochs=model_dbow.epochs)"
      ],
      "metadata": {
        "id": "cAp5dLDXgsY6"
      },
      "execution_count": 265,
      "outputs": []
    },
    {
      "cell_type": "code",
      "source": [
        "#prepare train data\n",
        "y_train_Kaggle, X_train_Kaggle = vec_for_learning(model_dbow, sample_tagged)"
      ],
      "metadata": {
        "id": "1A3xMxCKeAxR"
      },
      "execution_count": 266,
      "outputs": []
    },
    {
      "cell_type": "code",
      "source": [
        "#prepare test data\n",
        "\n",
        "test_tagged = Test_Data.apply(lambda r: TaggedDocument(words=data_cleaner(r['sentence']), tags = None), axis=1)"
      ],
      "metadata": {
        "id": "3_Qy9QjzfcQI"
      },
      "execution_count": 267,
      "outputs": []
    },
    {
      "cell_type": "code",
      "source": [
        "# To prepare the test data\n",
        "def vec_for_predicting(model, tagged_docs):\n",
        "    sents = tagged_docs.values\n",
        "    regressors = [(model.infer_vector(doc.words, steps=100)) for doc in sents]\n",
        "    return regressors"
      ],
      "metadata": {
        "id": "MJLjOAMYf43B"
      },
      "execution_count": 268,
      "outputs": []
    },
    {
      "cell_type": "code",
      "source": [
        "\n",
        "X_test_Kaggle = vec_for_predicting(model_dbow, test_tagged)"
      ],
      "metadata": {
        "id": "XHKkVNgX92TM"
      },
      "execution_count": 269,
      "outputs": []
    },
    {
      "cell_type": "code",
      "source": [
        "# Fit model on training set\n",
        "logreg = LogisticRegression(max_iter=1000, solver='lbfgs')\n",
        "logreg.fit(X_train_Kaggle, y_train_Kaggle)"
      ],
      "metadata": {
        "id": "6HsW28Wr9pwz",
        "colab": {
          "base_uri": "https://localhost:8080/"
        },
        "outputId": "7821e0c5-be77-4785-a5c2-981b66a3c409"
      },
      "execution_count": 270,
      "outputs": [
        {
          "output_type": "execute_result",
          "data": {
            "text/plain": [
              "LogisticRegression(max_iter=1000)"
            ]
          },
          "metadata": {},
          "execution_count": 270
        }
      ]
    },
    {
      "cell_type": "code",
      "source": [
        "#prediction\n",
        "LogRegPred = logreg.predict(X_test_Kaggle)"
      ],
      "metadata": {
        "id": "iUEbIIXvAPYH"
      },
      "execution_count": 271,
      "outputs": []
    },
    {
      "cell_type": "code",
      "source": [
        "LogisticReg_pred = pd.DataFrame(LogRegPred)"
      ],
      "metadata": {
        "id": "bdJpZCvMAblG"
      },
      "execution_count": 272,
      "outputs": []
    },
    {
      "cell_type": "code",
      "source": [
        "LogisticReg_pred.columns = ['difficulty']\n",
        "LogisticReg_pred.insert(0, 'id', [i for i in range(1200)])"
      ],
      "metadata": {
        "id": "2ITXkpRlBgyi"
      },
      "execution_count": 273,
      "outputs": []
    },
    {
      "cell_type": "code",
      "source": [
        "LogisticReg_pred.to_csv('LogisticReg_prediction.csv', header = True, index = False)"
      ],
      "metadata": {
        "id": "3RRCPRbeAoYA"
      },
      "execution_count": 274,
      "outputs": []
    }
  ]
}