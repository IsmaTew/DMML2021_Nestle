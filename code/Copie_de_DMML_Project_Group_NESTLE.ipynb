{
  "nbformat": 4,
  "nbformat_minor": 0,
  "metadata": {
    "kernelspec": {
      "display_name": "Python 3",
      "language": "python",
      "name": "python3"
    },
    "language_info": {
      "codemirror_mode": {
        "name": "ipython",
        "version": 3
      },
      "file_extension": ".py",
      "mimetype": "text/x-python",
      "name": "python",
      "nbconvert_exporter": "python",
      "pygments_lexer": "ipython3",
      "version": "3.7.3"
    },
    "colab": {
      "name": "Copie de DMML Project - Group NESTLE",
      "provenance": [],
      "collapsed_sections": []
    }
  },
  "cells": [
    {
      "cell_type": "markdown",
      "metadata": {
        "id": "z9JGePu64Ml4"
      },
      "source": [
        "#Project : Nestle"
      ]
    },
    {
      "cell_type": "markdown",
      "source": [
        "[![Open In Colab](https://colab.research.google.com/assets/colab-badge.svg)](https://colab.research.google.com/github/NFroehl/DMML2021_Nestle/blob/main/code/Copie_de_DMML_Project_Group_NESTLE.ipynb)"
      ],
      "metadata": {
        "id": "7oxA1KnJoOsJ"
      }
    },
    {
      "cell_type": "markdown",
      "source": [
        "Link to our github = https://github.com/NFroehl/DMML2021_Nestle"
      ],
      "metadata": {
        "id": "LGbKENmagHFk"
      }
    },
    {
      "cell_type": "code",
      "source": [
        "%%HTML\n",
        "<iframe width=\"560\" height=\"315\" src=\"https://www.youtube.com/embed/ih8JU9mvJic\" title=\"YouTube video player\" frameborder=\"0\" allow=\"accelerometer; autoplay; clipboard-write; encrypted-media; gyroscope; picture-in-picture\" allowfullscreen></iframe>"
      ],
      "metadata": {
        "colab": {
          "base_uri": "https://localhost:8080/",
          "height": 336
        },
        "id": "CGVSfNdIgqf7",
        "outputId": "791d2cc9-a82b-493c-dab5-a59619791790"
      },
      "execution_count": null,
      "outputs": [
        {
          "output_type": "display_data",
          "data": {
            "text/html": [
              "<iframe width=\"560\" height=\"315\" src=\"https://www.youtube.com/embed/ih8JU9mvJic\" title=\"YouTube video player\" frameborder=\"0\" allow=\"accelerometer; autoplay; clipboard-write; encrypted-media; gyroscope; picture-in-picture\" allowfullscreen></iframe>"
            ],
            "text/plain": [
              "<IPython.core.display.HTML object>"
            ]
          },
          "metadata": {}
        }
      ]
    },
    {
      "cell_type": "markdown",
      "metadata": {
        "id": "pCrMlTr04TlH"
      },
      "source": [
        "Here are the important libraries that we will use"
      ]
    },
    {
      "cell_type": "code",
      "metadata": {
        "id": "tdiuxCSZ4ZXw",
        "colab": {
          "base_uri": "https://localhost:8080/"
        },
        "outputId": "5aca8702-01ea-4d51-c6b9-257464fb0c66"
      },
      "source": [
        "# Install and update spaCy\n",
        "!pip install -U spacy\n",
        "\n",
        "# Download the french language model\n",
        "!python -m spacy download fr"
      ],
      "execution_count": null,
      "outputs": [
        {
          "output_type": "stream",
          "name": "stdout",
          "text": [
            "Requirement already satisfied: spacy in /usr/local/lib/python3.7/dist-packages (3.2.1)\n",
            "Requirement already satisfied: typer<0.5.0,>=0.3.0 in /usr/local/lib/python3.7/dist-packages (from spacy) (0.4.0)\n",
            "Requirement already satisfied: pathy>=0.3.5 in /usr/local/lib/python3.7/dist-packages (from spacy) (0.6.1)\n",
            "Requirement already satisfied: preshed<3.1.0,>=3.0.2 in /usr/local/lib/python3.7/dist-packages (from spacy) (3.0.6)\n",
            "Requirement already satisfied: typing-extensions<4.0.0.0,>=3.7.4 in /usr/local/lib/python3.7/dist-packages (from spacy) (3.10.0.2)\n",
            "Requirement already satisfied: spacy-loggers<2.0.0,>=1.0.0 in /usr/local/lib/python3.7/dist-packages (from spacy) (1.0.1)\n",
            "Requirement already satisfied: srsly<3.0.0,>=2.4.1 in /usr/local/lib/python3.7/dist-packages (from spacy) (2.4.2)\n",
            "Requirement already satisfied: jinja2 in /usr/local/lib/python3.7/dist-packages (from spacy) (2.11.3)\n",
            "Requirement already satisfied: tqdm<5.0.0,>=4.38.0 in /usr/local/lib/python3.7/dist-packages (from spacy) (4.62.3)\n",
            "Requirement already satisfied: blis<0.8.0,>=0.4.0 in /usr/local/lib/python3.7/dist-packages (from spacy) (0.4.1)\n",
            "Requirement already satisfied: catalogue<2.1.0,>=2.0.6 in /usr/local/lib/python3.7/dist-packages (from spacy) (2.0.6)\n",
            "Requirement already satisfied: requests<3.0.0,>=2.13.0 in /usr/local/lib/python3.7/dist-packages (from spacy) (2.23.0)\n",
            "Requirement already satisfied: pydantic!=1.8,!=1.8.1,<1.9.0,>=1.7.4 in /usr/local/lib/python3.7/dist-packages (from spacy) (1.8.2)\n",
            "Requirement already satisfied: setuptools in /usr/local/lib/python3.7/dist-packages (from spacy) (57.4.0)\n",
            "Requirement already satisfied: cymem<2.1.0,>=2.0.2 in /usr/local/lib/python3.7/dist-packages (from spacy) (2.0.6)\n",
            "Requirement already satisfied: packaging>=20.0 in /usr/local/lib/python3.7/dist-packages (from spacy) (21.3)\n",
            "Requirement already satisfied: thinc<8.1.0,>=8.0.12 in /usr/local/lib/python3.7/dist-packages (from spacy) (8.0.13)\n",
            "Requirement already satisfied: numpy>=1.15.0 in /usr/local/lib/python3.7/dist-packages (from spacy) (1.19.5)\n",
            "Requirement already satisfied: murmurhash<1.1.0,>=0.28.0 in /usr/local/lib/python3.7/dist-packages (from spacy) (1.0.6)\n",
            "Requirement already satisfied: spacy-legacy<3.1.0,>=3.0.8 in /usr/local/lib/python3.7/dist-packages (from spacy) (3.0.8)\n",
            "Requirement already satisfied: wasabi<1.1.0,>=0.8.1 in /usr/local/lib/python3.7/dist-packages (from spacy) (0.8.2)\n",
            "Requirement already satisfied: langcodes<4.0.0,>=3.2.0 in /usr/local/lib/python3.7/dist-packages (from spacy) (3.3.0)\n",
            "Requirement already satisfied: zipp>=0.5 in /usr/local/lib/python3.7/dist-packages (from catalogue<2.1.0,>=2.0.6->spacy) (3.6.0)\n",
            "Requirement already satisfied: pyparsing!=3.0.5,>=2.0.2 in /usr/local/lib/python3.7/dist-packages (from packaging>=20.0->spacy) (3.0.6)\n",
            "Requirement already satisfied: smart-open<6.0.0,>=5.0.0 in /usr/local/lib/python3.7/dist-packages (from pathy>=0.3.5->spacy) (5.2.1)\n",
            "Requirement already satisfied: idna<3,>=2.5 in /usr/local/lib/python3.7/dist-packages (from requests<3.0.0,>=2.13.0->spacy) (2.10)\n",
            "Requirement already satisfied: certifi>=2017.4.17 in /usr/local/lib/python3.7/dist-packages (from requests<3.0.0,>=2.13.0->spacy) (2021.10.8)\n",
            "Requirement already satisfied: urllib3!=1.25.0,!=1.25.1,<1.26,>=1.21.1 in /usr/local/lib/python3.7/dist-packages (from requests<3.0.0,>=2.13.0->spacy) (1.24.3)\n",
            "Requirement already satisfied: chardet<4,>=3.0.2 in /usr/local/lib/python3.7/dist-packages (from requests<3.0.0,>=2.13.0->spacy) (3.0.4)\n",
            "Requirement already satisfied: click<9.0.0,>=7.1.1 in /usr/local/lib/python3.7/dist-packages (from typer<0.5.0,>=0.3.0->spacy) (7.1.2)\n",
            "Requirement already satisfied: MarkupSafe>=0.23 in /usr/local/lib/python3.7/dist-packages (from jinja2->spacy) (2.0.1)\n",
            "\u001b[38;5;3m⚠ As of spaCy v3.0, shortcuts like 'fr' are deprecated. Please use the\n",
            "full pipeline package name 'fr_core_news_sm' instead.\u001b[0m\n",
            "Collecting fr-core-news-sm==3.2.0\n",
            "  Downloading https://github.com/explosion/spacy-models/releases/download/fr_core_news_sm-3.2.0/fr_core_news_sm-3.2.0-py3-none-any.whl (17.4 MB)\n",
            "\u001b[K     |████████████████████████████████| 17.4 MB 414 kB/s \n",
            "\u001b[?25hRequirement already satisfied: spacy<3.3.0,>=3.2.0 in /usr/local/lib/python3.7/dist-packages (from fr-core-news-sm==3.2.0) (3.2.1)\n",
            "Requirement already satisfied: thinc<8.1.0,>=8.0.12 in /usr/local/lib/python3.7/dist-packages (from spacy<3.3.0,>=3.2.0->fr-core-news-sm==3.2.0) (8.0.13)\n",
            "Requirement already satisfied: langcodes<4.0.0,>=3.2.0 in /usr/local/lib/python3.7/dist-packages (from spacy<3.3.0,>=3.2.0->fr-core-news-sm==3.2.0) (3.3.0)\n",
            "Requirement already satisfied: packaging>=20.0 in /usr/local/lib/python3.7/dist-packages (from spacy<3.3.0,>=3.2.0->fr-core-news-sm==3.2.0) (21.3)\n",
            "Requirement already satisfied: preshed<3.1.0,>=3.0.2 in /usr/local/lib/python3.7/dist-packages (from spacy<3.3.0,>=3.2.0->fr-core-news-sm==3.2.0) (3.0.6)\n",
            "Requirement already satisfied: wasabi<1.1.0,>=0.8.1 in /usr/local/lib/python3.7/dist-packages (from spacy<3.3.0,>=3.2.0->fr-core-news-sm==3.2.0) (0.8.2)\n",
            "Requirement already satisfied: srsly<3.0.0,>=2.4.1 in /usr/local/lib/python3.7/dist-packages (from spacy<3.3.0,>=3.2.0->fr-core-news-sm==3.2.0) (2.4.2)\n",
            "Requirement already satisfied: pydantic!=1.8,!=1.8.1,<1.9.0,>=1.7.4 in /usr/local/lib/python3.7/dist-packages (from spacy<3.3.0,>=3.2.0->fr-core-news-sm==3.2.0) (1.8.2)\n",
            "Requirement already satisfied: tqdm<5.0.0,>=4.38.0 in /usr/local/lib/python3.7/dist-packages (from spacy<3.3.0,>=3.2.0->fr-core-news-sm==3.2.0) (4.62.3)\n",
            "Requirement already satisfied: pathy>=0.3.5 in /usr/local/lib/python3.7/dist-packages (from spacy<3.3.0,>=3.2.0->fr-core-news-sm==3.2.0) (0.6.1)\n",
            "Requirement already satisfied: spacy-loggers<2.0.0,>=1.0.0 in /usr/local/lib/python3.7/dist-packages (from spacy<3.3.0,>=3.2.0->fr-core-news-sm==3.2.0) (1.0.1)\n",
            "Requirement already satisfied: murmurhash<1.1.0,>=0.28.0 in /usr/local/lib/python3.7/dist-packages (from spacy<3.3.0,>=3.2.0->fr-core-news-sm==3.2.0) (1.0.6)\n",
            "Requirement already satisfied: numpy>=1.15.0 in /usr/local/lib/python3.7/dist-packages (from spacy<3.3.0,>=3.2.0->fr-core-news-sm==3.2.0) (1.19.5)\n",
            "Requirement already satisfied: setuptools in /usr/local/lib/python3.7/dist-packages (from spacy<3.3.0,>=3.2.0->fr-core-news-sm==3.2.0) (57.4.0)\n",
            "Requirement already satisfied: typer<0.5.0,>=0.3.0 in /usr/local/lib/python3.7/dist-packages (from spacy<3.3.0,>=3.2.0->fr-core-news-sm==3.2.0) (0.4.0)\n",
            "Requirement already satisfied: cymem<2.1.0,>=2.0.2 in /usr/local/lib/python3.7/dist-packages (from spacy<3.3.0,>=3.2.0->fr-core-news-sm==3.2.0) (2.0.6)\n",
            "Requirement already satisfied: requests<3.0.0,>=2.13.0 in /usr/local/lib/python3.7/dist-packages (from spacy<3.3.0,>=3.2.0->fr-core-news-sm==3.2.0) (2.23.0)\n",
            "Requirement already satisfied: blis<0.8.0,>=0.4.0 in /usr/local/lib/python3.7/dist-packages (from spacy<3.3.0,>=3.2.0->fr-core-news-sm==3.2.0) (0.4.1)\n",
            "Requirement already satisfied: spacy-legacy<3.1.0,>=3.0.8 in /usr/local/lib/python3.7/dist-packages (from spacy<3.3.0,>=3.2.0->fr-core-news-sm==3.2.0) (3.0.8)\n",
            "Requirement already satisfied: jinja2 in /usr/local/lib/python3.7/dist-packages (from spacy<3.3.0,>=3.2.0->fr-core-news-sm==3.2.0) (2.11.3)\n",
            "Requirement already satisfied: catalogue<2.1.0,>=2.0.6 in /usr/local/lib/python3.7/dist-packages (from spacy<3.3.0,>=3.2.0->fr-core-news-sm==3.2.0) (2.0.6)\n",
            "Requirement already satisfied: typing-extensions<4.0.0.0,>=3.7.4 in /usr/local/lib/python3.7/dist-packages (from spacy<3.3.0,>=3.2.0->fr-core-news-sm==3.2.0) (3.10.0.2)\n",
            "Requirement already satisfied: zipp>=0.5 in /usr/local/lib/python3.7/dist-packages (from catalogue<2.1.0,>=2.0.6->spacy<3.3.0,>=3.2.0->fr-core-news-sm==3.2.0) (3.6.0)\n",
            "Requirement already satisfied: pyparsing!=3.0.5,>=2.0.2 in /usr/local/lib/python3.7/dist-packages (from packaging>=20.0->spacy<3.3.0,>=3.2.0->fr-core-news-sm==3.2.0) (3.0.6)\n",
            "Requirement already satisfied: smart-open<6.0.0,>=5.0.0 in /usr/local/lib/python3.7/dist-packages (from pathy>=0.3.5->spacy<3.3.0,>=3.2.0->fr-core-news-sm==3.2.0) (5.2.1)\n",
            "Requirement already satisfied: idna<3,>=2.5 in /usr/local/lib/python3.7/dist-packages (from requests<3.0.0,>=2.13.0->spacy<3.3.0,>=3.2.0->fr-core-news-sm==3.2.0) (2.10)\n",
            "Requirement already satisfied: chardet<4,>=3.0.2 in /usr/local/lib/python3.7/dist-packages (from requests<3.0.0,>=2.13.0->spacy<3.3.0,>=3.2.0->fr-core-news-sm==3.2.0) (3.0.4)\n",
            "Requirement already satisfied: urllib3!=1.25.0,!=1.25.1,<1.26,>=1.21.1 in /usr/local/lib/python3.7/dist-packages (from requests<3.0.0,>=2.13.0->spacy<3.3.0,>=3.2.0->fr-core-news-sm==3.2.0) (1.24.3)\n",
            "Requirement already satisfied: certifi>=2017.4.17 in /usr/local/lib/python3.7/dist-packages (from requests<3.0.0,>=2.13.0->spacy<3.3.0,>=3.2.0->fr-core-news-sm==3.2.0) (2021.10.8)\n",
            "Requirement already satisfied: click<9.0.0,>=7.1.1 in /usr/local/lib/python3.7/dist-packages (from typer<0.5.0,>=0.3.0->spacy<3.3.0,>=3.2.0->fr-core-news-sm==3.2.0) (7.1.2)\n",
            "Requirement already satisfied: MarkupSafe>=0.23 in /usr/local/lib/python3.7/dist-packages (from jinja2->spacy<3.3.0,>=3.2.0->fr-core-news-sm==3.2.0) (2.0.1)\n",
            "\u001b[38;5;2m✔ Download and installation successful\u001b[0m\n",
            "You can now load the package via spacy.load('fr_core_news_sm')\n"
          ]
        }
      ]
    },
    {
      "cell_type": "code",
      "source": [
        "# Libraries:\n",
        "\n",
        "import pandas as pd\n",
        "import numpy as np\n",
        "import spacy\n",
        "import string\n",
        "from spacy.lang.fr.stop_words import STOP_WORDS\n",
        "from sklearn.metrics import confusion_matrix, accuracy_score, precision_score, recall_score, f1_score\n",
        "from sklearn.feature_extraction.text import TfidfVectorizer"
      ],
      "metadata": {
        "id": "swPwmYZXXHMS"
      },
      "execution_count": null,
      "outputs": []
    },
    {
      "cell_type": "code",
      "source": [
        ""
      ],
      "metadata": {
        "id": "pJprcJAoNBJO"
      },
      "execution_count": null,
      "outputs": []
    },
    {
      "cell_type": "markdown",
      "metadata": {
        "id": "qMdv9sJ9Z_KT"
      },
      "source": [
        "#1) Data Preparation"
      ]
    },
    {
      "cell_type": "markdown",
      "source": [
        "##a) Import Data"
      ],
      "metadata": {
        "id": "CdYhF9oTRzoh"
      }
    },
    {
      "cell_type": "markdown",
      "metadata": {
        "id": "bA2Prjju4l2q"
      },
      "source": [
        "First, we read the Training Data using the download link."
      ]
    },
    {
      "cell_type": "code",
      "metadata": {
        "colab": {
          "base_uri": "https://localhost:8080/",
          "height": 206
        },
        "id": "igMYiUZi4kCn",
        "outputId": "0c8d91e9-bf8f-43eb-8b67-aee3ac235e8d"
      },
      "source": [
        "# Read the data:\n",
        "\n",
        "# We take the url to download the training data:\n",
        "\n",
        "url = \"https://raw.githubusercontent.com/NFroehl/DMML2021_Nestle/74eb14159f5f045d427350358637df31b81ea73b/data/training_data.csv\"\n",
        "Training_Data = pd.read_csv(url, delimiter=\",\")\n",
        "Training_Data.head()"
      ],
      "execution_count": null,
      "outputs": [
        {
          "output_type": "execute_result",
          "data": {
            "text/html": [
              "\n",
              "  <div id=\"df-7298a63d-77c9-42a8-801d-dd89fde9a91f\">\n",
              "    <div class=\"colab-df-container\">\n",
              "      <div>\n",
              "<style scoped>\n",
              "    .dataframe tbody tr th:only-of-type {\n",
              "        vertical-align: middle;\n",
              "    }\n",
              "\n",
              "    .dataframe tbody tr th {\n",
              "        vertical-align: top;\n",
              "    }\n",
              "\n",
              "    .dataframe thead th {\n",
              "        text-align: right;\n",
              "    }\n",
              "</style>\n",
              "<table border=\"1\" class=\"dataframe\">\n",
              "  <thead>\n",
              "    <tr style=\"text-align: right;\">\n",
              "      <th></th>\n",
              "      <th>id</th>\n",
              "      <th>sentence</th>\n",
              "      <th>difficulty</th>\n",
              "    </tr>\n",
              "  </thead>\n",
              "  <tbody>\n",
              "    <tr>\n",
              "      <th>0</th>\n",
              "      <td>0</td>\n",
              "      <td>Les coûts kilométriques réels peuvent diverger...</td>\n",
              "      <td>C1</td>\n",
              "    </tr>\n",
              "    <tr>\n",
              "      <th>1</th>\n",
              "      <td>1</td>\n",
              "      <td>Le bleu, c'est ma couleur préférée mais je n'a...</td>\n",
              "      <td>A1</td>\n",
              "    </tr>\n",
              "    <tr>\n",
              "      <th>2</th>\n",
              "      <td>2</td>\n",
              "      <td>Le test de niveau en français est sur le site ...</td>\n",
              "      <td>A1</td>\n",
              "    </tr>\n",
              "    <tr>\n",
              "      <th>3</th>\n",
              "      <td>3</td>\n",
              "      <td>Est-ce que ton mari est aussi de Boston?</td>\n",
              "      <td>A1</td>\n",
              "    </tr>\n",
              "    <tr>\n",
              "      <th>4</th>\n",
              "      <td>4</td>\n",
              "      <td>Dans les écoles de commerce, dans les couloirs...</td>\n",
              "      <td>B1</td>\n",
              "    </tr>\n",
              "  </tbody>\n",
              "</table>\n",
              "</div>\n",
              "      <button class=\"colab-df-convert\" onclick=\"convertToInteractive('df-7298a63d-77c9-42a8-801d-dd89fde9a91f')\"\n",
              "              title=\"Convert this dataframe to an interactive table.\"\n",
              "              style=\"display:none;\">\n",
              "        \n",
              "  <svg xmlns=\"http://www.w3.org/2000/svg\" height=\"24px\"viewBox=\"0 0 24 24\"\n",
              "       width=\"24px\">\n",
              "    <path d=\"M0 0h24v24H0V0z\" fill=\"none\"/>\n",
              "    <path d=\"M18.56 5.44l.94 2.06.94-2.06 2.06-.94-2.06-.94-.94-2.06-.94 2.06-2.06.94zm-11 1L8.5 8.5l.94-2.06 2.06-.94-2.06-.94L8.5 2.5l-.94 2.06-2.06.94zm10 10l.94 2.06.94-2.06 2.06-.94-2.06-.94-.94-2.06-.94 2.06-2.06.94z\"/><path d=\"M17.41 7.96l-1.37-1.37c-.4-.4-.92-.59-1.43-.59-.52 0-1.04.2-1.43.59L10.3 9.45l-7.72 7.72c-.78.78-.78 2.05 0 2.83L4 21.41c.39.39.9.59 1.41.59.51 0 1.02-.2 1.41-.59l7.78-7.78 2.81-2.81c.8-.78.8-2.07 0-2.86zM5.41 20L4 18.59l7.72-7.72 1.47 1.35L5.41 20z\"/>\n",
              "  </svg>\n",
              "      </button>\n",
              "      \n",
              "  <style>\n",
              "    .colab-df-container {\n",
              "      display:flex;\n",
              "      flex-wrap:wrap;\n",
              "      gap: 12px;\n",
              "    }\n",
              "\n",
              "    .colab-df-convert {\n",
              "      background-color: #E8F0FE;\n",
              "      border: none;\n",
              "      border-radius: 50%;\n",
              "      cursor: pointer;\n",
              "      display: none;\n",
              "      fill: #1967D2;\n",
              "      height: 32px;\n",
              "      padding: 0 0 0 0;\n",
              "      width: 32px;\n",
              "    }\n",
              "\n",
              "    .colab-df-convert:hover {\n",
              "      background-color: #E2EBFA;\n",
              "      box-shadow: 0px 1px 2px rgba(60, 64, 67, 0.3), 0px 1px 3px 1px rgba(60, 64, 67, 0.15);\n",
              "      fill: #174EA6;\n",
              "    }\n",
              "\n",
              "    [theme=dark] .colab-df-convert {\n",
              "      background-color: #3B4455;\n",
              "      fill: #D2E3FC;\n",
              "    }\n",
              "\n",
              "    [theme=dark] .colab-df-convert:hover {\n",
              "      background-color: #434B5C;\n",
              "      box-shadow: 0px 1px 3px 1px rgba(0, 0, 0, 0.15);\n",
              "      filter: drop-shadow(0px 1px 2px rgba(0, 0, 0, 0.3));\n",
              "      fill: #FFFFFF;\n",
              "    }\n",
              "  </style>\n",
              "\n",
              "      <script>\n",
              "        const buttonEl =\n",
              "          document.querySelector('#df-7298a63d-77c9-42a8-801d-dd89fde9a91f button.colab-df-convert');\n",
              "        buttonEl.style.display =\n",
              "          google.colab.kernel.accessAllowed ? 'block' : 'none';\n",
              "\n",
              "        async function convertToInteractive(key) {\n",
              "          const element = document.querySelector('#df-7298a63d-77c9-42a8-801d-dd89fde9a91f');\n",
              "          const dataTable =\n",
              "            await google.colab.kernel.invokeFunction('convertToInteractive',\n",
              "                                                     [key], {});\n",
              "          if (!dataTable) return;\n",
              "\n",
              "          const docLinkHtml = 'Like what you see? Visit the ' +\n",
              "            '<a target=\"_blank\" href=https://colab.research.google.com/notebooks/data_table.ipynb>data table notebook</a>'\n",
              "            + ' to learn more about interactive tables.';\n",
              "          element.innerHTML = '';\n",
              "          dataTable['output_type'] = 'display_data';\n",
              "          await google.colab.output.renderOutput(dataTable, element);\n",
              "          const docLink = document.createElement('div');\n",
              "          docLink.innerHTML = docLinkHtml;\n",
              "          element.appendChild(docLink);\n",
              "        }\n",
              "      </script>\n",
              "    </div>\n",
              "  </div>\n",
              "  "
            ],
            "text/plain": [
              "   id                                           sentence difficulty\n",
              "0   0  Les coûts kilométriques réels peuvent diverger...         C1\n",
              "1   1  Le bleu, c'est ma couleur préférée mais je n'a...         A1\n",
              "2   2  Le test de niveau en français est sur le site ...         A1\n",
              "3   3           Est-ce que ton mari est aussi de Boston?         A1\n",
              "4   4  Dans les écoles de commerce, dans les couloirs...         B1"
            ]
          },
          "metadata": {},
          "execution_count": 101
        }
      ]
    },
    {
      "cell_type": "markdown",
      "metadata": {
        "id": "fCANeI34D-l0"
      },
      "source": [
        "We get some informations about the Training Data in order to see how good they are."
      ]
    },
    {
      "cell_type": "code",
      "metadata": {
        "colab": {
          "base_uri": "https://localhost:8080/"
        },
        "id": "DRz_PoSZ4vGf",
        "outputId": "3f2d2e79-53ac-4d21-c433-2c9628d0d411"
      },
      "source": [
        "Training_Data.info()"
      ],
      "execution_count": null,
      "outputs": [
        {
          "output_type": "stream",
          "name": "stdout",
          "text": [
            "<class 'pandas.core.frame.DataFrame'>\n",
            "RangeIndex: 4800 entries, 0 to 4799\n",
            "Data columns (total 3 columns):\n",
            " #   Column      Non-Null Count  Dtype \n",
            "---  ------      --------------  ----- \n",
            " 0   id          4800 non-null   int64 \n",
            " 1   sentence    4800 non-null   object\n",
            " 2   difficulty  4800 non-null   object\n",
            "dtypes: int64(1), object(2)\n",
            "memory usage: 112.6+ KB\n"
          ]
        }
      ]
    },
    {
      "cell_type": "code",
      "source": [
        "np.random.seed = 0"
      ],
      "metadata": {
        "id": "n36QE1U_ILHU"
      },
      "execution_count": null,
      "outputs": []
    },
    {
      "cell_type": "code",
      "metadata": {
        "colab": {
          "base_uri": "https://localhost:8080/"
        },
        "id": "zkaocCH34v7s",
        "outputId": "c8e988d2-f280-47af-991d-7623826b7d27"
      },
      "source": [
        "# Base rate: the data-set is balanced\n",
        "Training_Data.difficulty.value_counts()/Training_Data.shape[0] #the baserate is 0.16973"
      ],
      "execution_count": null,
      "outputs": [
        {
          "output_type": "execute_result",
          "data": {
            "text/plain": [
              "A1    0.169375\n",
              "C2    0.168125\n",
              "C1    0.166250\n",
              "B1    0.165625\n",
              "A2    0.165625\n",
              "B2    0.165000\n",
              "Name: difficulty, dtype: float64"
            ]
          },
          "metadata": {},
          "execution_count": 104
        }
      ]
    },
    {
      "cell_type": "markdown",
      "metadata": {
        "id": "HHYFSLHiT3OU"
      },
      "source": [
        "Then, we read the Test Data using also the download link."
      ]
    },
    {
      "cell_type": "code",
      "metadata": {
        "colab": {
          "base_uri": "https://localhost:8080/",
          "height": 112
        },
        "id": "mWD4kLmVUA3A",
        "outputId": "9d0cc612-8f8b-4cc3-c83f-8ff77498a803"
      },
      "source": [
        "url = \"https://raw.githubusercontent.com/NFroehl/DMML2021_Nestle/main/data/unlabelled_test_data.csv\"\n",
        "Test_Data = pd.read_csv(url, delimiter=\",\")\n",
        "Test_Data.head(2)\n",
        "#Test_Data.sentence.shape"
      ],
      "execution_count": null,
      "outputs": [
        {
          "output_type": "execute_result",
          "data": {
            "text/html": [
              "\n",
              "  <div id=\"df-568d4553-f364-476b-a44a-3fe58ab003b5\">\n",
              "    <div class=\"colab-df-container\">\n",
              "      <div>\n",
              "<style scoped>\n",
              "    .dataframe tbody tr th:only-of-type {\n",
              "        vertical-align: middle;\n",
              "    }\n",
              "\n",
              "    .dataframe tbody tr th {\n",
              "        vertical-align: top;\n",
              "    }\n",
              "\n",
              "    .dataframe thead th {\n",
              "        text-align: right;\n",
              "    }\n",
              "</style>\n",
              "<table border=\"1\" class=\"dataframe\">\n",
              "  <thead>\n",
              "    <tr style=\"text-align: right;\">\n",
              "      <th></th>\n",
              "      <th>id</th>\n",
              "      <th>sentence</th>\n",
              "    </tr>\n",
              "  </thead>\n",
              "  <tbody>\n",
              "    <tr>\n",
              "      <th>0</th>\n",
              "      <td>0</td>\n",
              "      <td>Nous dûmes nous excuser des propos que nous eû...</td>\n",
              "    </tr>\n",
              "    <tr>\n",
              "      <th>1</th>\n",
              "      <td>1</td>\n",
              "      <td>Vous ne pouvez pas savoir le plaisir que j'ai ...</td>\n",
              "    </tr>\n",
              "  </tbody>\n",
              "</table>\n",
              "</div>\n",
              "      <button class=\"colab-df-convert\" onclick=\"convertToInteractive('df-568d4553-f364-476b-a44a-3fe58ab003b5')\"\n",
              "              title=\"Convert this dataframe to an interactive table.\"\n",
              "              style=\"display:none;\">\n",
              "        \n",
              "  <svg xmlns=\"http://www.w3.org/2000/svg\" height=\"24px\"viewBox=\"0 0 24 24\"\n",
              "       width=\"24px\">\n",
              "    <path d=\"M0 0h24v24H0V0z\" fill=\"none\"/>\n",
              "    <path d=\"M18.56 5.44l.94 2.06.94-2.06 2.06-.94-2.06-.94-.94-2.06-.94 2.06-2.06.94zm-11 1L8.5 8.5l.94-2.06 2.06-.94-2.06-.94L8.5 2.5l-.94 2.06-2.06.94zm10 10l.94 2.06.94-2.06 2.06-.94-2.06-.94-.94-2.06-.94 2.06-2.06.94z\"/><path d=\"M17.41 7.96l-1.37-1.37c-.4-.4-.92-.59-1.43-.59-.52 0-1.04.2-1.43.59L10.3 9.45l-7.72 7.72c-.78.78-.78 2.05 0 2.83L4 21.41c.39.39.9.59 1.41.59.51 0 1.02-.2 1.41-.59l7.78-7.78 2.81-2.81c.8-.78.8-2.07 0-2.86zM5.41 20L4 18.59l7.72-7.72 1.47 1.35L5.41 20z\"/>\n",
              "  </svg>\n",
              "      </button>\n",
              "      \n",
              "  <style>\n",
              "    .colab-df-container {\n",
              "      display:flex;\n",
              "      flex-wrap:wrap;\n",
              "      gap: 12px;\n",
              "    }\n",
              "\n",
              "    .colab-df-convert {\n",
              "      background-color: #E8F0FE;\n",
              "      border: none;\n",
              "      border-radius: 50%;\n",
              "      cursor: pointer;\n",
              "      display: none;\n",
              "      fill: #1967D2;\n",
              "      height: 32px;\n",
              "      padding: 0 0 0 0;\n",
              "      width: 32px;\n",
              "    }\n",
              "\n",
              "    .colab-df-convert:hover {\n",
              "      background-color: #E2EBFA;\n",
              "      box-shadow: 0px 1px 2px rgba(60, 64, 67, 0.3), 0px 1px 3px 1px rgba(60, 64, 67, 0.15);\n",
              "      fill: #174EA6;\n",
              "    }\n",
              "\n",
              "    [theme=dark] .colab-df-convert {\n",
              "      background-color: #3B4455;\n",
              "      fill: #D2E3FC;\n",
              "    }\n",
              "\n",
              "    [theme=dark] .colab-df-convert:hover {\n",
              "      background-color: #434B5C;\n",
              "      box-shadow: 0px 1px 3px 1px rgba(0, 0, 0, 0.15);\n",
              "      filter: drop-shadow(0px 1px 2px rgba(0, 0, 0, 0.3));\n",
              "      fill: #FFFFFF;\n",
              "    }\n",
              "  </style>\n",
              "\n",
              "      <script>\n",
              "        const buttonEl =\n",
              "          document.querySelector('#df-568d4553-f364-476b-a44a-3fe58ab003b5 button.colab-df-convert');\n",
              "        buttonEl.style.display =\n",
              "          google.colab.kernel.accessAllowed ? 'block' : 'none';\n",
              "\n",
              "        async function convertToInteractive(key) {\n",
              "          const element = document.querySelector('#df-568d4553-f364-476b-a44a-3fe58ab003b5');\n",
              "          const dataTable =\n",
              "            await google.colab.kernel.invokeFunction('convertToInteractive',\n",
              "                                                     [key], {});\n",
              "          if (!dataTable) return;\n",
              "\n",
              "          const docLinkHtml = 'Like what you see? Visit the ' +\n",
              "            '<a target=\"_blank\" href=https://colab.research.google.com/notebooks/data_table.ipynb>data table notebook</a>'\n",
              "            + ' to learn more about interactive tables.';\n",
              "          element.innerHTML = '';\n",
              "          dataTable['output_type'] = 'display_data';\n",
              "          await google.colab.output.renderOutput(dataTable, element);\n",
              "          const docLink = document.createElement('div');\n",
              "          docLink.innerHTML = docLinkHtml;\n",
              "          element.appendChild(docLink);\n",
              "        }\n",
              "      </script>\n",
              "    </div>\n",
              "  </div>\n",
              "  "
            ],
            "text/plain": [
              "   id                                           sentence\n",
              "0   0  Nous dûmes nous excuser des propos que nous eû...\n",
              "1   1  Vous ne pouvez pas savoir le plaisir que j'ai ..."
            ]
          },
          "metadata": {},
          "execution_count": 105
        }
      ]
    },
    {
      "cell_type": "markdown",
      "source": [
        "##b) Vectorize Data"
      ],
      "metadata": {
        "id": "KFkF-FS2SQ1i"
      }
    },
    {
      "cell_type": "markdown",
      "source": [
        "To do the regression, even without cleaning the data, we need a tokenizer function."
      ],
      "metadata": {
        "id": "CeTkkgy_Q5In"
      }
    },
    {
      "cell_type": "code",
      "metadata": {
        "id": "DdoJTkyO5IdP"
      },
      "source": [
        "# Let's implement the tokenizer function:\n",
        "\n",
        "# Load French language model:\n",
        "sp = spacy.load('fr_core_news_sm')\n",
        "\n",
        "# Tokenizer function:\n",
        "def spacy_tokenizer1(sentence):\n",
        "    # Create token object, which is used to create documents with linguistic annotations.\n",
        "    mytokens = sp(sentence)\n",
        "    # Return list of tokens\n",
        "    return mytokens"
      ],
      "execution_count": null,
      "outputs": []
    },
    {
      "cell_type": "markdown",
      "source": [
        "#2) Classification without Data Cleaning"
      ],
      "metadata": {
        "id": "XShv4w7nSeU-"
      }
    },
    {
      "cell_type": "markdown",
      "source": [
        "For each method, we will do hyperparametrization for the TfidVectorizer() function. We will do it on the analyzers word and char."
      ],
      "metadata": {
        "id": "G7dVMzNVxzuE"
      }
    },
    {
      "cell_type": "code",
      "source": [
        "# To compare all methods, we will create a list of accuracies depending on parameters and methods:\n",
        "TotalResult = []"
      ],
      "metadata": {
        "id": "qCr3SgtQzTUP"
      },
      "execution_count": null,
      "outputs": []
    },
    {
      "cell_type": "markdown",
      "source": [
        "##a) Split Data"
      ],
      "metadata": {
        "id": "_eYvWw-kTBXH"
      }
    },
    {
      "cell_type": "code",
      "source": [
        "# Select features\n",
        "X = Training_Data['sentence'] # the features we want to analyze\n",
        "y = Training_Data['difficulty'] # the labels, or answers, we want to test against"
      ],
      "metadata": {
        "id": "WPuEQOxQUY0B"
      },
      "execution_count": null,
      "outputs": []
    },
    {
      "cell_type": "code",
      "source": [
        "# Import train/test split function\n",
        "from sklearn.model_selection import train_test_split\n",
        "\n",
        "# Train/test splitting code\n",
        "X_train, X_test, y_train, y_test = train_test_split(X, y, test_size=0.2, random_state=72)"
      ],
      "metadata": {
        "id": "WCJcRAzPUTvQ"
      },
      "execution_count": null,
      "outputs": []
    },
    {
      "cell_type": "markdown",
      "source": [
        "##b) Function to evaluate the following models"
      ],
      "metadata": {
        "id": "YJp2LbFNXYFI"
      }
    },
    {
      "cell_type": "code",
      "source": [
        "# Evaluate the models\n",
        "def evaluate(true, pred):\n",
        "    precision = precision_score(true, pred, average='macro')\n",
        "    recall = recall_score(true, pred, average='macro')\n",
        "    f1 = f1_score(true, pred, average='macro')\n",
        "    print(f\"CONFUSION MATRIX:\\n{confusion_matrix(true, pred)}\")\n",
        "    print(f\"ACCURACY SCORE:\\n{accuracy_score(true, pred):.4f}\")\n",
        "    print(f\"CLASSIFICATION REPORT:\\n\\tPrecision: {precision:.4f}\\n\\tRecall: {recall:.4f}\\n\\tF1_Score: {f1:.4f}\")"
      ],
      "metadata": {
        "id": "mzlltioEXg4u"
      },
      "execution_count": null,
      "outputs": []
    },
    {
      "cell_type": "markdown",
      "metadata": {
        "id": "exzyB7GJ8j-9"
      },
      "source": [
        "##c) Classification of the reviews using Logistic Regression"
      ]
    },
    {
      "cell_type": "code",
      "source": [
        "from sklearn.linear_model import LogisticRegression\n",
        "from sklearn.pipeline import Pipeline\n",
        "\n",
        "# Define list for result\n",
        "analyzer = ['word', 'char']\n",
        "result = []\n",
        "\n",
        "for x in analyzer:\n",
        "\n",
        "    # Redefine vectorizer\n",
        "    tfidf_vector = TfidfVectorizer(tokenizer=spacy_tokenizer1, \n",
        "                                   analyzer=x)\n",
        "\n",
        "    # Define classifier\n",
        "    classifier = LogisticRegression()\n",
        "\n",
        "    # Create pipeline\n",
        "    pipe = Pipeline([('vectorizer', tfidf_vector),\n",
        "                 ('classifier', classifier)])\n",
        "\n",
        "    # Fit model on training set\n",
        "    pipe.fit(X_train, y_train)\n",
        "\n",
        "    # Predictions\n",
        "    y_pred = pipe.predict(X_test)\n",
        "\n",
        "    # Print accuracy on test set\n",
        "    print(\"Analyzer: \", x)\n",
        "    evaluate(y_test, y_pred)\n",
        "    print(\"-----------------------\")\n",
        "\n",
        "    # Append to result\n",
        "    result.append([x, accuracy_score(y_test, y_pred)])"
      ],
      "metadata": {
        "colab": {
          "base_uri": "https://localhost:8080/"
        },
        "id": "kcY0JBJkpZ_Z",
        "outputId": "26c0ffc3-8490-480a-b2cd-b2821d2d100f"
      },
      "execution_count": null,
      "outputs": [
        {
          "output_type": "stream",
          "name": "stdout",
          "text": [
            "Analyzer:  word\n",
            "CONFUSION MATRIX:\n",
            "[[  0   0   0   0   0 174]\n",
            " [  0   0   0   0   0 161]\n",
            " [  0   0   0   0   0 159]\n",
            " [  0   0   0   0   0 154]\n",
            " [  0   0   0   0   0 160]\n",
            " [  0   0   0   0   0 152]]\n",
            "ACCURACY SCORE:\n",
            "0.1583\n",
            "CLASSIFICATION REPORT:\n",
            "\tPrecision: 0.0264\n",
            "\tRecall: 0.1667\n",
            "\tF1_Score: 0.0456\n",
            "-----------------------\n"
          ]
        },
        {
          "output_type": "stream",
          "name": "stderr",
          "text": [
            "/usr/local/lib/python3.7/dist-packages/sklearn/metrics/_classification.py:1308: UndefinedMetricWarning: Precision is ill-defined and being set to 0.0 in labels with no predicted samples. Use `zero_division` parameter to control this behavior.\n",
            "  _warn_prf(average, modifier, msg_start, len(result))\n"
          ]
        },
        {
          "output_type": "stream",
          "name": "stdout",
          "text": [
            "Analyzer:  char\n",
            "CONFUSION MATRIX:\n",
            "[[113  25  17  12   2   5]\n",
            " [ 38  57  43   8   4  11]\n",
            " [ 17  31  54  21  12  24]\n",
            " [ 11   1  11  51  34  46]\n",
            " [  1   1  10  35  59  54]\n",
            " [  4   2   9  18  26  93]]\n",
            "ACCURACY SCORE:\n",
            "0.4448\n",
            "CLASSIFICATION REPORT:\n",
            "\tPrecision: 0.4430\n",
            "\tRecall: 0.4425\n",
            "\tF1_Score: 0.4366\n",
            "-----------------------\n"
          ]
        },
        {
          "output_type": "stream",
          "name": "stderr",
          "text": [
            "/usr/local/lib/python3.7/dist-packages/sklearn/linear_model/_logistic.py:818: ConvergenceWarning: lbfgs failed to converge (status=1):\n",
            "STOP: TOTAL NO. of ITERATIONS REACHED LIMIT.\n",
            "\n",
            "Increase the number of iterations (max_iter) or scale the data as shown in:\n",
            "    https://scikit-learn.org/stable/modules/preprocessing.html\n",
            "Please also refer to the documentation for alternative solver options:\n",
            "    https://scikit-learn.org/stable/modules/linear_model.html#logistic-regression\n",
            "  extra_warning_msg=_LOGISTIC_SOLVER_CONVERGENCE_MSG,\n"
          ]
        }
      ]
    },
    {
      "cell_type": "code",
      "source": [
        "TotalResult.append(result)\n",
        "result"
      ],
      "metadata": {
        "colab": {
          "base_uri": "https://localhost:8080/"
        },
        "id": "vSEM7z1xv47p",
        "outputId": "988b7ff3-0912-4dcc-ebe6-1df5408dad35"
      },
      "execution_count": null,
      "outputs": [
        {
          "output_type": "execute_result",
          "data": {
            "text/plain": [
              "[['word', 0.15833333333333333], ['char', 0.44479166666666664]]"
            ]
          },
          "metadata": {},
          "execution_count": 112
        }
      ]
    },
    {
      "cell_type": "markdown",
      "metadata": {
        "id": "yqeWpXWdJkEJ"
      },
      "source": [
        "##d) Classification of the reviews using KNN Regression"
      ]
    },
    {
      "cell_type": "markdown",
      "source": [
        "First, we tun hyperparameters with GridSearch (for n_neighbors, p and weights)."
      ],
      "metadata": {
        "id": "fCHh0TBVvrFa"
      }
    },
    {
      "cell_type": "code",
      "source": [
        "from sklearn.neighbors import KNeighborsClassifier\n",
        "from sklearn.model_selection import GridSearchCV\n",
        "from sklearn.pipeline import Pipeline\n",
        "\n",
        "# Define parameters to test\n",
        "grid = {'n_neighbors':np.arange(1,7),\n",
        "        'p':np.arange(1,3),\n",
        "        'weights':['uniform','distance']\n",
        "       }\n",
        "\n",
        "# Define and fit model\n",
        "knn = KNeighborsClassifier()\n",
        "knn_cv = GridSearchCV(knn, grid, cv=10)\n",
        "pipe = Pipeline([('vectorizer', tfidf_vector),\n",
        "                 ('classifier', knn_cv)])\n",
        "pipe.fit(X_train, y_train)\n",
        "\n",
        "nb = knn_cv.best_params_['n_neighbors']\n",
        "p = knn_cv.best_params_['p']\n",
        "w = knn_cv.best_params_['weights']\n",
        "\n",
        "# Print results\n",
        "print(\"Hyperparameters:\", knn_cv.best_params_)\n",
        "print(\"Train Score:\", round(knn_cv.best_score_, 4))"
      ],
      "metadata": {
        "colab": {
          "base_uri": "https://localhost:8080/"
        },
        "id": "Ubm37eZvvtC7",
        "outputId": "1bec4d3d-b0c5-49f3-bac1-f87ba68e00b0"
      },
      "execution_count": null,
      "outputs": [
        {
          "output_type": "stream",
          "name": "stdout",
          "text": [
            "Hyperparameters: {'n_neighbors': 4, 'p': 1, 'weights': 'distance'}\n",
            "Train Score: 0.3539\n"
          ]
        }
      ]
    },
    {
      "cell_type": "markdown",
      "source": [
        "And we do the regression with the best parameters."
      ],
      "metadata": {
        "id": "zPACyA0-zET2"
      }
    },
    {
      "cell_type": "code",
      "source": [
        "# Define list for result\n",
        "analyzer = ['word', 'char']\n",
        "result = []\n",
        "\n",
        "for x in analyzer:\n",
        "\n",
        "    # Redefine vectorizer\n",
        "    tfidf_vector = TfidfVectorizer(tokenizer=spacy_tokenizer1, \n",
        "                                   analyzer=x)\n",
        "\n",
        "    # Define classifier\n",
        "    classifier = KNeighborsClassifier(n_neighbors=nb, p = p, weights = w)\n",
        "\n",
        "    # Create pipeline\n",
        "    pipe = Pipeline([('vectorizer', tfidf_vector),\n",
        "                 ('classifier', classifier)])\n",
        "\n",
        "    # Fit model on training set\n",
        "    pipe.fit(X_train, y_train)\n",
        "\n",
        "    # Predictions\n",
        "    y_pred = pipe.predict(X_test)\n",
        "\n",
        "    # Print accuracy on test set\n",
        "    print(\"Analyzer: \", x)\n",
        "    evaluate(y_test, y_pred)\n",
        "    print(\"-----------------------\")\n",
        "\n",
        "    # Append to result\n",
        "    result.append([x, accuracy_score(y_test, y_pred)])"
      ],
      "metadata": {
        "colab": {
          "base_uri": "https://localhost:8080/"
        },
        "id": "tMiU3jWF0GsY",
        "outputId": "e9986ab6-1551-4130-cd1b-b4ca356049d4"
      },
      "execution_count": null,
      "outputs": [
        {
          "output_type": "stream",
          "name": "stdout",
          "text": [
            "Analyzer:  word\n",
            "CONFUSION MATRIX:\n",
            "[[174   0   0   0   0   0]\n",
            " [161   0   0   0   0   0]\n",
            " [159   0   0   0   0   0]\n",
            " [154   0   0   0   0   0]\n",
            " [160   0   0   0   0   0]\n",
            " [152   0   0   0   0   0]]\n",
            "ACCURACY SCORE:\n",
            "0.1812\n",
            "CLASSIFICATION REPORT:\n",
            "\tPrecision: 0.0302\n",
            "\tRecall: 0.1667\n",
            "\tF1_Score: 0.0511\n",
            "-----------------------\n"
          ]
        },
        {
          "output_type": "stream",
          "name": "stderr",
          "text": [
            "/usr/local/lib/python3.7/dist-packages/sklearn/metrics/_classification.py:1308: UndefinedMetricWarning: Precision is ill-defined and being set to 0.0 in labels with no predicted samples. Use `zero_division` parameter to control this behavior.\n",
            "  _warn_prf(average, modifier, msg_start, len(result))\n"
          ]
        },
        {
          "output_type": "stream",
          "name": "stdout",
          "text": [
            "Analyzer:  char\n",
            "CONFUSION MATRIX:\n",
            "[[84 38 27  7  6 12]\n",
            " [28 50 39 21 11 12]\n",
            " [23 25 39 31 21 20]\n",
            " [ 4 10 20 31 47 42]\n",
            " [ 3  4 14 22 54 63]\n",
            " [ 1  4  7 18 46 76]]\n",
            "ACCURACY SCORE:\n",
            "0.3479\n",
            "CLASSIFICATION REPORT:\n",
            "\tPrecision: 0.3507\n",
            "\tRecall: 0.3462\n",
            "\tF1_Score: 0.3438\n",
            "-----------------------\n"
          ]
        }
      ]
    },
    {
      "cell_type": "code",
      "source": [
        "TotalResult.append(result)\n",
        "result"
      ],
      "metadata": {
        "colab": {
          "base_uri": "https://localhost:8080/"
        },
        "id": "yT9AgTRq0ro0",
        "outputId": "843f191f-e500-41e8-e0d9-c185a2ec0c50"
      },
      "execution_count": null,
      "outputs": [
        {
          "output_type": "execute_result",
          "data": {
            "text/plain": [
              "[['word', 0.18125], ['char', 0.34791666666666665]]"
            ]
          },
          "metadata": {},
          "execution_count": 115
        }
      ]
    },
    {
      "cell_type": "markdown",
      "metadata": {
        "id": "VVw0lRgtRPAd"
      },
      "source": [
        "##e) Classification of the reviews using Decision Tree Regression"
      ]
    },
    {
      "cell_type": "markdown",
      "source": [
        "First, we tun hyperparameters with GridSearch (for depth)."
      ],
      "metadata": {
        "id": "-AI-DDQItF7N"
      }
    },
    {
      "cell_type": "code",
      "source": [
        "from sklearn.tree import DecisionTreeClassifier\n",
        "from sklearn.model_selection import GridSearchCV\n",
        "from sklearn.pipeline import Pipeline\n",
        "\n",
        "# Grid Search - tuning tree depth\n",
        "\n",
        "# Define parameter to test\n",
        "grid = {'max_depth':np.arange(1,10)}\n",
        "\n",
        "# Define and fit model\n",
        "\n",
        "tree = DecisionTreeClassifier()\n",
        "tree_cv = GridSearchCV(tree, grid, cv=5)\n",
        "\n",
        "pipe = Pipeline([('vectorizer', tfidf_vector),\n",
        "                 ('classifier', tree_cv)])\n",
        "pipe.fit(X_train, y_train)\n",
        "\n",
        "d = tree_cv.best_params_\n",
        "\n",
        "# Print results\n",
        "print(\"Hyperparameters:\", tree_cv.best_params_)\n",
        "print(\"Train Score:\", round(tree_cv.best_score_, 4))"
      ],
      "metadata": {
        "colab": {
          "base_uri": "https://localhost:8080/"
        },
        "id": "Z8nZpkHytaqZ",
        "outputId": "c34ecda8-9196-4fb0-93fd-81327d6aee5f"
      },
      "execution_count": null,
      "outputs": [
        {
          "output_type": "stream",
          "name": "stdout",
          "text": [
            "Hyperparameters: {'max_depth': 6}\n",
            "Train Score: 0.3583\n"
          ]
        }
      ]
    },
    {
      "cell_type": "markdown",
      "source": [
        "And we do the regression with the best parameter."
      ],
      "metadata": {
        "id": "zhmdsMswuBw-"
      }
    },
    {
      "cell_type": "code",
      "source": [
        "# Define list for result\n",
        "analyzer = ['word', 'char']\n",
        "result = []\n",
        "\n",
        "for x in analyzer:\n",
        "\n",
        "    # Redefine vectorizer\n",
        "    tfidf_vector = TfidfVectorizer(tokenizer=spacy_tokenizer1, \n",
        "                                   analyzer=x)\n",
        "\n",
        "    # Define classifier\n",
        "    classifier = DecisionTreeClassifier(max_depth=6, random_state=72) #best parameter we found\n",
        "\n",
        "    # Create pipeline\n",
        "    pipe = Pipeline([('vectorizer', tfidf_vector),\n",
        "                 ('classifier', classifier)])\n",
        "\n",
        "    # Fit model on training set\n",
        "    pipe.fit(X_train, y_train)\n",
        "\n",
        "    # Predictions\n",
        "    y_pred = pipe.predict(X_test)\n",
        "\n",
        "    # Print accuracy on test set\n",
        "    print(\"Analyzer: \", x)\n",
        "    evaluate(y_test, y_pred)\n",
        "    print(\"-----------------------\")\n",
        "\n",
        "    # Append to result\n",
        "    result.append([x, accuracy_score(y_test, y_pred)])"
      ],
      "metadata": {
        "colab": {
          "base_uri": "https://localhost:8080/"
        },
        "id": "ZrCUF1o1009u",
        "outputId": "81306498-263e-4615-8a52-caa77836669f"
      },
      "execution_count": null,
      "outputs": [
        {
          "output_type": "stream",
          "name": "stdout",
          "text": [
            "Analyzer:  word\n",
            "CONFUSION MATRIX:\n",
            "[[  0   0   0   0   0 174]\n",
            " [  0   0   0   0   0 161]\n",
            " [  0   0   0   0   0 159]\n",
            " [  0   0   0   0   0 154]\n",
            " [  0   0   0   0   0 160]\n",
            " [  0   0   0   0   0 152]]\n",
            "ACCURACY SCORE:\n",
            "0.1583\n",
            "CLASSIFICATION REPORT:\n",
            "\tPrecision: 0.0264\n",
            "\tRecall: 0.1667\n",
            "\tF1_Score: 0.0456\n",
            "-----------------------\n"
          ]
        },
        {
          "output_type": "stream",
          "name": "stderr",
          "text": [
            "/usr/local/lib/python3.7/dist-packages/sklearn/metrics/_classification.py:1308: UndefinedMetricWarning: Precision is ill-defined and being set to 0.0 in labels with no predicted samples. Use `zero_division` parameter to control this behavior.\n",
            "  _warn_prf(average, modifier, msg_start, len(result))\n"
          ]
        },
        {
          "output_type": "stream",
          "name": "stdout",
          "text": [
            "Analyzer:  char\n",
            "CONFUSION MATRIX:\n",
            "[[84 43 40  4  0  3]\n",
            " [31 44 74  9  0  3]\n",
            " [ 8 23 99 13 12  4]\n",
            " [ 4  6 45 40 40 19]\n",
            " [ 2  3 29 30 63 33]\n",
            " [ 1  2 29 13 52 55]]\n",
            "ACCURACY SCORE:\n",
            "0.4010\n",
            "CLASSIFICATION REPORT:\n",
            "\tPrecision: 0.4229\n",
            "\tRecall: 0.3990\n",
            "\tF1_Score: 0.3967\n",
            "-----------------------\n"
          ]
        }
      ]
    },
    {
      "cell_type": "code",
      "source": [
        "TotalResult.append(result)\n",
        "result"
      ],
      "metadata": {
        "colab": {
          "base_uri": "https://localhost:8080/"
        },
        "id": "MNzKZoLE1bC3",
        "outputId": "599403c4-f9e4-4dc9-f133-a1afd7191f48"
      },
      "execution_count": null,
      "outputs": [
        {
          "output_type": "execute_result",
          "data": {
            "text/plain": [
              "[['word', 0.15833333333333333], ['char', 0.4010416666666667]]"
            ]
          },
          "metadata": {},
          "execution_count": 118
        }
      ]
    },
    {
      "cell_type": "markdown",
      "source": [
        "##f) Classification of the reviews using Random Forest Regression"
      ],
      "metadata": {
        "id": "hQgnfaQAbHm-"
      }
    },
    {
      "cell_type": "code",
      "source": [
        "from sklearn.ensemble import RandomForestClassifier\n",
        "from sklearn.pipeline import Pipeline\n",
        "\n",
        "# Define list for result\n",
        "analyzer = ['word', 'char']\n",
        "result = []\n",
        "\n",
        "for x in analyzer:\n",
        "\n",
        "    # Redefine vectorizer\n",
        "    tfidf_vector = TfidfVectorizer(tokenizer=spacy_tokenizer1, \n",
        "                                   analyzer=x)\n",
        "\n",
        "    # Define classifier\n",
        "    classifier = RandomForestClassifier(n_estimators=100)\n",
        "\n",
        "    # Create pipeline\n",
        "    pipe = Pipeline([('vectorizer', tfidf_vector),\n",
        "                 ('classifier', classifier)])\n",
        "\n",
        "    # Fit model on training set\n",
        "    pipe.fit(X_train, y_train)\n",
        "\n",
        "    # Predictions\n",
        "    y_pred = pipe.predict(X_test)\n",
        "\n",
        "    # Print accuracy on test set\n",
        "    print(\"Analyzer: \", x)\n",
        "    evaluate(y_test, y_pred)\n",
        "    print(\"-----------------------\")\n",
        "\n",
        "    # Append to result\n",
        "    result.append([x, accuracy_score(y_test, y_pred)])"
      ],
      "metadata": {
        "colab": {
          "base_uri": "https://localhost:8080/"
        },
        "id": "DbHLIFAa1nfw",
        "outputId": "c7a3d65d-57a0-4860-9233-239a136d8363"
      },
      "execution_count": null,
      "outputs": [
        {
          "output_type": "stream",
          "name": "stdout",
          "text": [
            "Analyzer:  word\n",
            "CONFUSION MATRIX:\n",
            "[[174   0   0   0   0   0]\n",
            " [161   0   0   0   0   0]\n",
            " [159   0   0   0   0   0]\n",
            " [154   0   0   0   0   0]\n",
            " [160   0   0   0   0   0]\n",
            " [152   0   0   0   0   0]]\n",
            "ACCURACY SCORE:\n",
            "0.1812\n",
            "CLASSIFICATION REPORT:\n",
            "\tPrecision: 0.0302\n",
            "\tRecall: 0.1667\n",
            "\tF1_Score: 0.0511\n",
            "-----------------------\n"
          ]
        },
        {
          "output_type": "stream",
          "name": "stderr",
          "text": [
            "/usr/local/lib/python3.7/dist-packages/sklearn/metrics/_classification.py:1308: UndefinedMetricWarning: Precision is ill-defined and being set to 0.0 in labels with no predicted samples. Use `zero_division` parameter to control this behavior.\n",
            "  _warn_prf(average, modifier, msg_start, len(result))\n"
          ]
        },
        {
          "output_type": "stream",
          "name": "stdout",
          "text": [
            "Analyzer:  char\n",
            "CONFUSION MATRIX:\n",
            "[[112  37  18   2   2   3]\n",
            " [ 42  67  37   7   4   4]\n",
            " [ 18  44  50  19  16  12]\n",
            " [  9  12  17  48  35  33]\n",
            " [  2   4  11  40  61  42]\n",
            " [  3   5   9  19  45  71]]\n",
            "ACCURACY SCORE:\n",
            "0.4260\n",
            "CLASSIFICATION REPORT:\n",
            "\tPrecision: 0.4185\n",
            "\tRecall: 0.4224\n",
            "\tF1_Score: 0.4197\n",
            "-----------------------\n"
          ]
        }
      ]
    },
    {
      "cell_type": "code",
      "source": [
        "TotalResult.append(result)\n",
        "result"
      ],
      "metadata": {
        "colab": {
          "base_uri": "https://localhost:8080/"
        },
        "id": "bQQQgXcp2Rrb",
        "outputId": "6eb66be8-5d0e-4410-d5f3-2e52b1151069"
      },
      "execution_count": null,
      "outputs": [
        {
          "output_type": "execute_result",
          "data": {
            "text/plain": [
              "[['word', 0.18125], ['char', 0.42604166666666665]]"
            ]
          },
          "metadata": {},
          "execution_count": 120
        }
      ]
    },
    {
      "cell_type": "markdown",
      "source": [
        "##g) Results"
      ],
      "metadata": {
        "id": "kS5-TBZ82TlN"
      }
    },
    {
      "cell_type": "markdown",
      "source": [
        "Let's compare our previous results to choose which method we are going to keep for the next part (with data cleaning)."
      ],
      "metadata": {
        "id": "Gzd49wLN2iVi"
      }
    },
    {
      "cell_type": "code",
      "source": [
        "# I import the library that I need to plot :\n",
        "import matplotlib.pyplot as plt\n",
        "\n",
        "# I build the lists which contains the accuracy for each method :\n",
        "n = len(TotalResult)\n",
        "TestAccuracyWord = [TotalResult[i][0][1] for i in range(n)]\n",
        "TestAccuracyChar = [TotalResult[i][1][1] for i in range(n)]\n",
        "x = [i for i in range(1,n+1)]\n",
        "\n",
        "# I plot the lists and I put a name for each point :\n",
        "labels = ['Logistic', 'KNN', 'DecTree', 'RandForest']\n",
        "\n",
        "plt.title('Accuracy')\n",
        "plt.plot(x, TestAccuracyWord, label = 'Word')\n",
        "plt.plot(x, TestAccuracyChar, label = 'Char')\n",
        "plt.legend()\n",
        "plt.xticks(x, labels, rotation = 45)\n",
        "\n",
        "plt.show()"
      ],
      "metadata": {
        "colab": {
          "base_uri": "https://localhost:8080/",
          "height": 318
        },
        "id": "lAL9O0hB2yRj",
        "outputId": "28752c08-e3d4-40ae-bfe2-d8ff5346b61d"
      },
      "execution_count": null,
      "outputs": [
        {
          "output_type": "display_data",
          "data": {
            "image/png": "[encoded data removed]",
            "text/plain": [
              "<Figure size 432x288 with 1 Axes>"
            ]
          },
          "metadata": {
            "needs_background": "light"
          }
        }
      ]
    },
    {
      "cell_type": "code",
      "source": [
        "TotalResult"
      ],
      "metadata": {
        "colab": {
          "base_uri": "https://localhost:8080/"
        },
        "id": "2OZz3_8v5eVj",
        "outputId": "1ae2004e-074f-496c-9710-73df76ba990b"
      },
      "execution_count": null,
      "outputs": [
        {
          "output_type": "execute_result",
          "data": {
            "text/plain": [
              "[[['word', 0.15833333333333333], ['char', 0.44479166666666664]],\n",
              " [['word', 0.18125], ['char', 0.34791666666666665]],\n",
              " [['word', 0.15833333333333333], ['char', 0.4010416666666667]],\n",
              " [['word', 0.18125], ['char', 0.42604166666666665]]]"
            ]
          },
          "metadata": {},
          "execution_count": 122
        }
      ]
    },
    {
      "cell_type": "markdown",
      "source": [
        "|                     | Logistic regression |       KNN        |   Decision Tree      |   Random Forest     |\n",
        "| ------------------- | ------------------- |----------------- | -------------------- |-------------------- |\n",
        "| Precision           | 0.4430              | 0.3507           | 0.4229               |  0.4236             | \n",
        "| Recall              | 0.4425              | 0.3462           | 0.3990               |  0.4277             | \n",
        "| F1-Score            | 0.4366              | 0.3438           | 0.3967               |  0.4248             | \n",
        "| Accuracy            | 0.4448              | 0.3479           | 0.4010               |  0.4313             |  \n"
      ],
      "metadata": {
        "id": "vW9vWZCVaF0t"
      }
    },
    {
      "cell_type": "markdown",
      "source": [
        "According to the list and the graph, we decide to continue to work with Logistic Regression and Analyzer = 'char'. Random Forest has also a very good accuracy. Maybe we will try it too."
      ],
      "metadata": {
        "id": "Z-BF-mFW5jwJ"
      }
    },
    {
      "cell_type": "markdown",
      "source": [
        "#3) Classification with Data Cleaning"
      ],
      "metadata": {
        "id": "UOBzI0sX53a9"
      }
    },
    {
      "cell_type": "markdown",
      "source": [
        "##a) Data Cleaning function et vectorization"
      ],
      "metadata": {
        "id": "XqiTex2K6GN6"
      }
    },
    {
      "cell_type": "markdown",
      "source": [
        "We use nltk package for cleaning"
      ],
      "metadata": {
        "id": "hsU9-k_XLkja"
      }
    },
    {
      "cell_type": "code",
      "source": [
        "#other tokenizer function\n",
        "\n",
        "#importing package\n",
        "import re\n",
        "import nltk\n",
        "nltk.download('stopwords')\n",
        "nltk.download('punkt')\n",
        "from nltk.corpus import stopwords\n",
        "\n",
        "\n",
        "# Define cleaning function\n",
        "def data_cleaner(sms):\n",
        "\n",
        "    # Define stopwords\n",
        "    stop_words = stopwords.words('french')\n",
        "\n",
        "    # Define tokenizer and stemmer\n",
        "    from nltk.tokenize import word_tokenize\n",
        "    from nltk.stem import PorterStemmer\n",
        "    \n",
        "    # Remove digits\n",
        "    sms = re.sub(r\"\\d+\",\"\", sms)\n",
        "    \n",
        "    # Lowercase\n",
        "    sms = sms.lower()\n",
        "    \n",
        "    # Remove punctuation\n",
        "    sms = re.sub(r\"[^\\w\\s\\d]\",\"\", sms)\n",
        "\n",
        "   # Remove stop words\n",
        "    sms = sms.split()\n",
        "    sms = \" \".join([word for word in sms if not word in stop_words])\n",
        "    \n",
        "    # Tokenize\n",
        "    sms = word_tokenize(sms)\n",
        "    \n",
        "    # Stemming\n",
        "    ps = PorterStemmer()\n",
        "    sms = [ps.stem(word) for word in sms]\n",
        "    \n",
        "    return sms "
      ],
      "metadata": {
        "colab": {
          "base_uri": "https://localhost:8080/"
        },
        "id": "VbFufAzJS1tA",
        "outputId": "bddc4a6a-55ba-4653-91bd-c1f3afda2fd7"
      },
      "execution_count": null,
      "outputs": [
        {
          "output_type": "stream",
          "name": "stdout",
          "text": [
            "[nltk_data] Downloading package stopwords to /root/nltk_data...\n",
            "[nltk_data]   Package stopwords is already up-to-date!\n",
            "[nltk_data] Downloading package punkt to /root/nltk_data...\n",
            "[nltk_data]   Package punkt is already up-to-date!\n"
          ]
        }
      ]
    },
    {
      "cell_type": "code",
      "source": [
        "#Clean X_train \n",
        "X_train.apply(data_cleaner)"
      ],
      "metadata": {
        "colab": {
          "base_uri": "https://localhost:8080/"
        },
        "id": "uJg9g117HYZ2",
        "outputId": "68db2ce8-6aa2-4adc-e7ff-83add81803ad"
      },
      "execution_count": null,
      "outputs": [
        {
          "output_type": "execute_result",
          "data": {
            "text/plain": [
              "3925    [jai, vu, cett, grand, imag, litali, relev, fa...\n",
              "2070    [cett, somm, comprend, dépens, délectricité, c...\n",
              "4211                 [ira, voir, maman, semain, prochain]\n",
              "1452    [cadr, dune, recherch, sociolinguistiqu, urbai...\n",
              "1881                                   [just, petit, peu]\n",
              "                              ...                        \n",
              "3079    [aristocr, naissanc, haîssait, instinct, quatr...\n",
              "3951                                         [jai, froid]\n",
              "2885    [rien, dextraordinair, quand, vit, sud, leurop...\n",
              "3941    [éclair, cett, lueur, chemin, crépusculair, mè...\n",
              "4568    [quartier, certain, voisin, sentend, ouvrir, p...\n",
              "Name: sentence, Length: 3840, dtype: object"
            ]
          },
          "metadata": {},
          "execution_count": 124
        }
      ]
    },
    {
      "cell_type": "markdown",
      "source": [
        "It is not perfect mais already great. We further use DOC2VEC to vectorize"
      ],
      "metadata": {
        "id": "Ds9LwiLfLxOJ"
      }
    },
    {
      "cell_type": "code",
      "source": [
        "#\n",
        "from gensim.models.doc2vec import TaggedDocument\n",
        "sample_tagged = Training_Data.apply(lambda r: TaggedDocument(words=data_cleaner(r['sentence']), tags=[r.difficulty]),axis=1)\n",
        "#test_tagged = Test_Data.apply(lambda r: TaggedDocument(words=data_cleaner(r['sentence']), tags = None), axis=1)\n"
      ],
      "metadata": {
        "id": "0XcLknLezdJC"
      },
      "execution_count": null,
      "outputs": []
    },
    {
      "cell_type": "code",
      "source": [
        "sample_tagged.values[10]"
      ],
      "metadata": {
        "colab": {
          "base_uri": "https://localhost:8080/"
        },
        "id": "5SLxy8iXYOCN",
        "outputId": "1bf6907b-b8d5-45ea-aae6-a2d0d20defc8"
      },
      "execution_count": null,
      "outputs": [
        {
          "output_type": "execute_result",
          "data": {
            "text/plain": [
              "TaggedDocument(words=['bonjour', 'bonn', 'anné'], tags=['A1'])"
            ]
          },
          "metadata": {},
          "execution_count": 126
        }
      ]
    },
    {
      "cell_type": "code",
      "source": [
        "# Train test split - same split as before\n",
        "train_tagged, test_tagged = train_test_split(sample_tagged, test_size=0.2, random_state=1234)"
      ],
      "metadata": {
        "id": "ujl_d8HbxLWm"
      },
      "execution_count": null,
      "outputs": []
    },
    {
      "cell_type": "code",
      "source": [
        "test_tagged"
      ],
      "metadata": {
        "colab": {
          "base_uri": "https://localhost:8080/"
        },
        "id": "aGR4O4PrYZyQ",
        "outputId": "c83299c8-01c0-4785-9167-46c8fbd91ecc"
      },
      "execution_count": null,
      "outputs": [
        {
          "output_type": "execute_result",
          "data": {
            "text/plain": [
              "4448    ([avant, laisser, parol, monsieur, servat, sau...\n",
              "3022    ([quand, reviendrai, joffrirai, beaucoup, damo...\n",
              "827                         ([beau, succè, destim], [C1])\n",
              "1745    ([clore, cett, monographi, café, constantinopo...\n",
              "4202    ([lune, plu, emblématiqu, mari, sophi, germain...\n",
              "                              ...                        \n",
              "3640                 ([jai, mangé, hamburg, frite], [A1])\n",
              "2229    ([organisé, loccas, e, anniversair, mort, poèt...\n",
              "319     ([noter, lapprentissag, grammair, français, ob...\n",
              "4697    ([lorigin, politiqu, sen, modern, mot, europ, ...\n",
              "1416    ([grand, maison, chien, poisson, deux, chat], ...\n",
              "Length: 960, dtype: object"
            ]
          },
          "metadata": {},
          "execution_count": 128
        }
      ]
    },
    {
      "cell_type": "code",
      "source": [
        "# Allows to speed up a bit\n",
        "import multiprocessing\n",
        "cores = multiprocessing.cpu_count()"
      ],
      "metadata": {
        "id": "irmVvdz4xBJz"
      },
      "execution_count": null,
      "outputs": []
    },
    {
      "cell_type": "code",
      "source": [
        "\n",
        "# Define Doc2Vec and build vocabulary\n",
        "from gensim.models import Doc2Vec\n",
        "\n",
        "model_dbow = Doc2Vec(dm=0, vector_size=30, negative=6, hs=0, min_count=1, sample=0, workers=cores, epoch=300)\n",
        "model_dbow.build_vocab([x for x in sample_tagged.values])\n"
      ],
      "metadata": {
        "id": "6GZksW4dw5qS"
      },
      "execution_count": null,
      "outputs": []
    },
    {
      "cell_type": "markdown",
      "source": [
        "We now train the distributed bag of words model. In short, it trains a neural network and the optimal weights are the coefficients of the vectors of the documents. Therefore, similar documents will be close to each other in the N-dimentional space (N being the size of the vectors)."
      ],
      "metadata": {
        "id": "Zj9Eeyt4Yrwr"
      }
    },
    {
      "cell_type": "code",
      "source": [
        "# Train distributed Bag of Word model\n",
        "model_dbow.train(sample_tagged, total_examples=model_dbow.corpus_count, epochs=model_dbow.epochs)"
      ],
      "metadata": {
        "id": "UOrAmzw96vo_"
      },
      "execution_count": null,
      "outputs": []
    },
    {
      "cell_type": "code",
      "source": [
        "# Select X and y\n",
        "def vec_for_learning(model, tagged_docs):\n",
        "    sents = tagged_docs.values\n",
        "    targets, regressors = zip(*[(doc.tags[0], model.infer_vector(doc.words, steps=100)) for doc in sents])\n",
        "    return targets, regressors\n",
        "    \n",
        "y_train, X_train = vec_for_learning(model_dbow, train_tagged)\n",
        "y_test, X_test = vec_for_learning(model_dbow, test_tagged)"
      ],
      "metadata": {
        "id": "GRZe4FAg64Oe"
      },
      "execution_count": null,
      "outputs": []
    },
    {
      "cell_type": "code",
      "source": [
        "X_train[:2]"
      ],
      "metadata": {
        "colab": {
          "base_uri": "https://localhost:8080/"
        },
        "id": "BgqsvLziZJdP",
        "outputId": "6f5e7b8f-3850-4705-c62f-f37b46a43cc4"
      },
      "execution_count": null,
      "outputs": [
        {
          "output_type": "execute_result",
          "data": {
            "text/plain": [
              "(array([ 0.78153163,  0.71627784, -0.6887198 ,  0.05546096,  0.5800965 ,\n",
              "         0.12393452,  0.16192552,  0.8755986 , -0.8780715 , -0.94077337,\n",
              "         0.6050943 , -0.10166375, -0.18823943, -0.03477662, -1.5158362 ,\n",
              "        -1.1251482 , -0.35535145,  0.5350069 ,  0.97802293,  0.43827015,\n",
              "        -1.4482446 ,  1.3610818 ,  0.07191327, -0.6614289 , -0.78355426,\n",
              "        -0.37634984, -0.65784836, -0.1448491 , -0.15910444, -1.1595831 ],\n",
              "       dtype=float32),\n",
              " array([ 0.74322355,  0.6511417 , -0.6311183 ,  0.16379866,  0.671166  ,\n",
              "         0.11835642,  0.3378523 ,  0.97881544, -1.2472849 , -0.84735507,\n",
              "         0.7307507 , -0.1150216 , -0.5599505 , -0.07806693, -1.0898697 ,\n",
              "        -0.84321785, -0.16708092,  0.9509964 ,  1.121834  ,  0.4240687 ,\n",
              "        -1.2366476 ,  1.1681035 , -0.29137337, -0.82054806, -0.45673236,\n",
              "        -0.5595895 , -0.60689867, -0.01180295,  0.18423556, -1.0992956 ],\n",
              "       dtype=float32))"
            ]
          },
          "metadata": {},
          "execution_count": 133
        }
      ]
    },
    {
      "cell_type": "markdown",
      "source": [
        "## b) Logistic Regression with DOC2VEC"
      ],
      "metadata": {
        "id": "dBDjGev8bpHK"
      }
    },
    {
      "cell_type": "code",
      "source": [
        "# Fit model on training set\n",
        "logreg = LogisticRegression(max_iter=1000, solver='lbfgs')\n",
        "logreg.fit(X_train, y_train)\n",
        "\n",
        "# Predictions\n",
        "y_pred = logreg.predict(X_test)"
      ],
      "metadata": {
        "id": "RBSo72HQEzqk"
      },
      "execution_count": null,
      "outputs": []
    },
    {
      "cell_type": "code",
      "source": [
        "# Print accuracy on test set \n",
        "evaluate(y_test, y_pred)\n",
        "#we have an accuracy of 0.7333"
      ],
      "metadata": {
        "colab": {
          "base_uri": "https://localhost:8080/"
        },
        "id": "eYUX424IcCOG",
        "outputId": "df4caa86-2734-4f5c-9726-e73938a19042"
      },
      "execution_count": null,
      "outputs": [
        {
          "output_type": "stream",
          "name": "stdout",
          "text": [
            "CONFUSION MATRIX:\n",
            "[[130  22  11   2   1   0]\n",
            " [ 40  89  25   1   1   0]\n",
            " [ 19  31 104  12   0   1]\n",
            " [  3   1  13 119  13   6]\n",
            " [  3   2   1  17 125   9]\n",
            " [  0   0   5  10   8 136]]\n",
            "ACCURACY SCORE:\n",
            "0.7323\n",
            "CLASSIFICATION REPORT:\n",
            "\tPrecision: 0.7355\n",
            "\tRecall: 0.7326\n",
            "\tF1_Score: 0.7328\n"
          ]
        }
      ]
    },
    {
      "cell_type": "markdown",
      "source": [
        "|                     | Logistic regression |       KNN        |   Decision Tree      |   Random Forest     |Doc2Vec with Log Reg|\n",
        "| ------------------- | ------------------- |----------------- | -------------------- |-------------------- | -------------------|\n",
        "| Precision           | 0.4430              | 0.3507           | 0.4229               |  0.4236             |  0.7404            |\n",
        "| Recall              | 0.4425              | 0.3462           | 0.3990               |  0.4277             |  0.7391            |\n",
        "| F1-Score            | 0.4366              | 0.3438           | 0.3967               |  0.4248             |  0.7392            |\n",
        "| Accuracy            | 0.4448              | 0.3479           | 0.4010               |  0.4313             |  0.7385            |\n"
      ],
      "metadata": {
        "id": "atIzEpQOsJLq"
      }
    },
    {
      "cell_type": "markdown",
      "source": [
        "#4) Final Classifation for Kaggle"
      ],
      "metadata": {
        "id": "qE_vL4j1diHg"
      }
    },
    {
      "cell_type": "markdown",
      "source": [
        "To get a better accuracy, we use the whole Train Data to do the final regression.\n"
      ],
      "metadata": {
        "id": "gpJ6HExvdpDG"
      }
    },
    {
      "cell_type": "code",
      "source": [
        "# Train distributed Bag of Word model\n",
        "model_dbow.train(sample_tagged, total_examples=model_dbow.corpus_count, epochs=model_dbow.epochs)"
      ],
      "metadata": {
        "id": "cAp5dLDXgsY6"
      },
      "execution_count": null,
      "outputs": []
    },
    {
      "cell_type": "code",
      "source": [
        "#prepare train data\n",
        "y_train_Kaggle, X_train_Kaggle = vec_for_learning(model_dbow, sample_tagged)"
      ],
      "metadata": {
        "id": "1A3xMxCKeAxR"
      },
      "execution_count": null,
      "outputs": []
    },
    {
      "cell_type": "code",
      "source": [
        "#prepare test data\n",
        "\n",
        "test_tagged = Test_Data.apply(lambda r: TaggedDocument(words=data_cleaner(r['sentence']), tags = None), axis=1)"
      ],
      "metadata": {
        "id": "3_Qy9QjzfcQI"
      },
      "execution_count": null,
      "outputs": []
    },
    {
      "cell_type": "code",
      "source": [
        "# To prepare the test data\n",
        "def vec_for_predicting(model, tagged_docs):\n",
        "    sents = tagged_docs.values\n",
        "    regressors = [(model.infer_vector(doc.words, steps=100)) for doc in sents]\n",
        "    return regressors"
      ],
      "metadata": {
        "id": "MJLjOAMYf43B"
      },
      "execution_count": null,
      "outputs": []
    },
    {
      "cell_type": "code",
      "source": [
        "\n",
        "X_test_Kaggle = vec_for_predicting(model_dbow, test_tagged)"
      ],
      "metadata": {
        "id": "XHKkVNgX92TM"
      },
      "execution_count": null,
      "outputs": []
    },
    {
      "cell_type": "code",
      "source": [
        "# Fit model on training set\n",
        "logreg = LogisticRegression(max_iter=1000, solver='lbfgs')\n",
        "logreg.fit(X_train_Kaggle, y_train_Kaggle)"
      ],
      "metadata": {
        "id": "6HsW28Wr9pwz",
        "colab": {
          "base_uri": "https://localhost:8080/"
        },
        "outputId": "c1bbb852-c45e-4cc9-ef21-fba684fa292d"
      },
      "execution_count": null,
      "outputs": [
        {
          "output_type": "execute_result",
          "data": {
            "text/plain": [
              "LogisticRegression(max_iter=1000)"
            ]
          },
          "metadata": {},
          "execution_count": 141
        }
      ]
    },
    {
      "cell_type": "code",
      "source": [
        "#prediction\n",
        "LogRegPred = logreg.predict(X_test_Kaggle)"
      ],
      "metadata": {
        "id": "iUEbIIXvAPYH"
      },
      "execution_count": null,
      "outputs": []
    },
    {
      "cell_type": "code",
      "source": [
        "LogisticReg_pred = pd.DataFrame(LogRegPred)"
      ],
      "metadata": {
        "id": "bdJpZCvMAblG"
      },
      "execution_count": null,
      "outputs": []
    },
    {
      "cell_type": "code",
      "source": [
        "LogisticReg_pred.columns = ['difficulty']\n",
        "LogisticReg_pred.insert(0, 'id', [i for i in range(1200)])"
      ],
      "metadata": {
        "id": "2ITXkpRlBgyi"
      },
      "execution_count": null,
      "outputs": []
    },
    {
      "cell_type": "code",
      "source": [
        "LogisticReg_pred.to_csv('LogisticReg_prediction.csv', header = True, index = False)"
      ],
      "metadata": {
        "id": "3RRCPRbeAoYA"
      },
      "execution_count": null,
      "outputs": []
    }
  ]
}