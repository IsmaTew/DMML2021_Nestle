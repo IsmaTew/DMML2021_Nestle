{
  "nbformat": 4,
  "nbformat_minor": 0,
  "metadata": {
    "kernelspec": {
      "display_name": "Python 3",
      "language": "python",
      "name": "python3"
    },
    "language_info": {
      "codemirror_mode": {
        "name": "ipython",
        "version": 3
      },
      "file_extension": ".py",
      "mimetype": "text/x-python",
      "name": "python",
      "nbconvert_exporter": "python",
      "pygments_lexer": "ipython3",
      "version": "3.7.3"
    },
    "colab": {
      "name": "Copie de Project code 2",
      "provenance": [],
      "collapsed_sections": [],
      "include_colab_link": true
    }
  },
  "cells": [
    {
      "cell_type": "markdown",
      "metadata": {
        "id": "view-in-github",
        "colab_type": "text"
      },
      "source": [
        "<a href=\"https://colab.research.google.com/github/NFroehl/DMML2021_Nestle/blob/main/code/Copie_de_Project_code_lastupdate.ipynb\" target=\"_parent\"><img src=\"https://colab.research.google.com/assets/colab-badge.svg\" alt=\"Open In Colab\"/></a>"
      ]
    },
    {
      "cell_type": "markdown",
      "metadata": {
        "id": "z9JGePu64Ml4"
      },
      "source": [
        "#Project : Nestle"
      ]
    },
    {
      "cell_type": "markdown",
      "metadata": {
        "id": "pCrMlTr04TlH"
      },
      "source": [
        "Here are the important libraries that we will use"
      ]
    },
    {
      "cell_type": "code",
      "metadata": {
        "id": "tdiuxCSZ4ZXw"
      },
      "source": [
        "# Install and update spaCy\n",
        "!pip install -U spacy\n",
        "\n",
        "# Download the french language model\n",
        "!python -m spacy download fr"
      ],
      "execution_count": null,
      "outputs": []
    },
    {
      "cell_type": "code",
      "source": [
        "# Libraries:\n",
        "\n",
        "import pandas as pd\n",
        "import spacy\n",
        "import string\n",
        "from spacy.lang.fr.stop_words import STOP_WORDS\n",
        "from sklearn.metrics import confusion_matrix, accuracy_score, precision_score, recall_score, f1_score\n",
        "from sklearn.feature_extraction.text import TfidfVectorizer"
      ],
      "metadata": {
        "id": "swPwmYZXXHMS"
      },
      "execution_count": null,
      "outputs": []
    },
    {
      "cell_type": "markdown",
      "metadata": {
        "id": "qMdv9sJ9Z_KT"
      },
      "source": [
        "#1) Data Preparation"
      ]
    },
    {
      "cell_type": "markdown",
      "source": [
        "##a) Import Data"
      ],
      "metadata": {
        "id": "CdYhF9oTRzoh"
      }
    },
    {
      "cell_type": "markdown",
      "metadata": {
        "id": "bA2Prjju4l2q"
      },
      "source": [
        "First, we read the Training Data using the download link."
      ]
    },
    {
      "cell_type": "code",
      "metadata": {
        "colab": {
          "base_uri": "https://localhost:8080/",
          "height": 112
        },
        "id": "igMYiUZi4kCn",
        "outputId": "bc1845e4-85df-4720-c3cc-3e14c335d149"
      },
      "source": [
        "# Read the data:\n",
        "\n",
        "# We take the url to doawnload the training data:\n",
        "\n",
        "url = \"https://raw.githubusercontent.com/NFroehl/DMML2021_Nestle/74eb14159f5f045d427350358637df31b81ea73b/data/training_data.csv\"\n",
        "Training_Data = pd.read_csv(url, delimiter=\",\")\n",
        "Training_Data.head(2)"
      ],
      "execution_count": null,
      "outputs": [
        {
          "output_type": "execute_result",
          "data": {
            "text/html": [
              "<div>\n",
              "<style scoped>\n",
              "    .dataframe tbody tr th:only-of-type {\n",
              "        vertical-align: middle;\n",
              "    }\n",
              "\n",
              "    .dataframe tbody tr th {\n",
              "        vertical-align: top;\n",
              "    }\n",
              "\n",
              "    .dataframe thead th {\n",
              "        text-align: right;\n",
              "    }\n",
              "</style>\n",
              "<table border=\"1\" class=\"dataframe\">\n",
              "  <thead>\n",
              "    <tr style=\"text-align: right;\">\n",
              "      <th></th>\n",
              "      <th>id</th>\n",
              "      <th>sentence</th>\n",
              "      <th>difficulty</th>\n",
              "    </tr>\n",
              "  </thead>\n",
              "  <tbody>\n",
              "    <tr>\n",
              "      <th>0</th>\n",
              "      <td>0</td>\n",
              "      <td>Les coûts kilométriques réels peuvent diverger...</td>\n",
              "      <td>C1</td>\n",
              "    </tr>\n",
              "    <tr>\n",
              "      <th>1</th>\n",
              "      <td>1</td>\n",
              "      <td>Le bleu, c'est ma couleur préférée mais je n'a...</td>\n",
              "      <td>A1</td>\n",
              "    </tr>\n",
              "  </tbody>\n",
              "</table>\n",
              "</div>"
            ],
            "text/plain": [
              "   id                                           sentence difficulty\n",
              "0   0  Les coûts kilométriques réels peuvent diverger...         C1\n",
              "1   1  Le bleu, c'est ma couleur préférée mais je n'a...         A1"
            ]
          },
          "metadata": {},
          "execution_count": 9
        }
      ]
    },
    {
      "cell_type": "markdown",
      "metadata": {
        "id": "fCANeI34D-l0"
      },
      "source": [
        "We get some informations about the Training Data in order to see how good they are."
      ]
    },
    {
      "cell_type": "code",
      "metadata": {
        "colab": {
          "base_uri": "https://localhost:8080/"
        },
        "id": "DRz_PoSZ4vGf",
        "outputId": "53789ad2-c030-4c63-af43-45681948a92a"
      },
      "source": [
        "Training_Data.info()"
      ],
      "execution_count": null,
      "outputs": [
        {
          "output_type": "stream",
          "name": "stdout",
          "text": [
            "<class 'pandas.core.frame.DataFrame'>\n",
            "RangeIndex: 4800 entries, 0 to 4799\n",
            "Data columns (total 3 columns):\n",
            " #   Column      Non-Null Count  Dtype \n",
            "---  ------      --------------  ----- \n",
            " 0   id          4800 non-null   int64 \n",
            " 1   sentence    4800 non-null   object\n",
            " 2   difficulty  4800 non-null   object\n",
            "dtypes: int64(1), object(2)\n",
            "memory usage: 112.6+ KB\n"
          ]
        }
      ]
    },
    {
      "cell_type": "code",
      "metadata": {
        "colab": {
          "base_uri": "https://localhost:8080/"
        },
        "id": "zkaocCH34v7s",
        "outputId": "84da572a-f60d-4dc7-8395-cd7c9cf428b1"
      },
      "source": [
        "# Base rate: the data-set is balanced\n",
        "Training_Data.difficulty.value_counts()"
      ],
      "execution_count": null,
      "outputs": [
        {
          "output_type": "execute_result",
          "data": {
            "text/plain": [
              "A1    813\n",
              "C2    807\n",
              "C1    798\n",
              "A2    795\n",
              "B1    795\n",
              "B2    792\n",
              "Name: difficulty, dtype: int64"
            ]
          },
          "metadata": {},
          "execution_count": 11
        }
      ]
    },
    {
      "cell_type": "markdown",
      "metadata": {
        "id": "HHYFSLHiT3OU"
      },
      "source": [
        "Then, we read the Test Data using also the download link."
      ]
    },
    {
      "cell_type": "code",
      "metadata": {
        "colab": {
          "base_uri": "https://localhost:8080/",
          "height": 112
        },
        "id": "mWD4kLmVUA3A",
        "outputId": "e77a331c-2d8d-4746-be35-cac4a8edfcea"
      },
      "source": [
        "url = \"https://raw.githubusercontent.com/NFroehl/DMML2021_Nestle/main/data/unlabelled_test_data.csv\"\n",
        "Test_Data = pd.read_csv(url, delimiter=\",\")\n",
        "Test_Data.head(2)"
      ],
      "execution_count": null,
      "outputs": [
        {
          "output_type": "execute_result",
          "data": {
            "text/html": [
              "<div>\n",
              "<style scoped>\n",
              "    .dataframe tbody tr th:only-of-type {\n",
              "        vertical-align: middle;\n",
              "    }\n",
              "\n",
              "    .dataframe tbody tr th {\n",
              "        vertical-align: top;\n",
              "    }\n",
              "\n",
              "    .dataframe thead th {\n",
              "        text-align: right;\n",
              "    }\n",
              "</style>\n",
              "<table border=\"1\" class=\"dataframe\">\n",
              "  <thead>\n",
              "    <tr style=\"text-align: right;\">\n",
              "      <th></th>\n",
              "      <th>id</th>\n",
              "      <th>sentence</th>\n",
              "    </tr>\n",
              "  </thead>\n",
              "  <tbody>\n",
              "    <tr>\n",
              "      <th>0</th>\n",
              "      <td>0</td>\n",
              "      <td>Nous dûmes nous excuser des propos que nous eû...</td>\n",
              "    </tr>\n",
              "    <tr>\n",
              "      <th>1</th>\n",
              "      <td>1</td>\n",
              "      <td>Vous ne pouvez pas savoir le plaisir que j'ai ...</td>\n",
              "    </tr>\n",
              "  </tbody>\n",
              "</table>\n",
              "</div>"
            ],
            "text/plain": [
              "   id                                           sentence\n",
              "0   0  Nous dûmes nous excuser des propos que nous eû...\n",
              "1   1  Vous ne pouvez pas savoir le plaisir que j'ai ..."
            ]
          },
          "metadata": {},
          "execution_count": 12
        }
      ]
    },
    {
      "cell_type": "markdown",
      "source": [
        "##b) Vectorize Data"
      ],
      "metadata": {
        "id": "KFkF-FS2SQ1i"
      }
    },
    {
      "cell_type": "markdown",
      "source": [
        "To do the regression, even without cleaning the data, we need a tokenizer function."
      ],
      "metadata": {
        "id": "CeTkkgy_Q5In"
      }
    },
    {
      "cell_type": "code",
      "metadata": {
        "id": "DdoJTkyO5IdP"
      },
      "source": [
        "# Let's implement the tokenizer function:\n",
        "\n",
        "# Load French language model:\n",
        "sp = spacy.load('fr_core_news_sm')\n",
        "\n",
        "# Tokenizer function:\n",
        "def spacy_tokenizer1(sentence):\n",
        "    # Create token object, which is used to create documents with linguistic annotations.\n",
        "    mytokens = sp(sentence)\n",
        "    # Return list of tokens\n",
        "    return mytokens"
      ],
      "execution_count": null,
      "outputs": []
    },
    {
      "cell_type": "markdown",
      "source": [
        "#2) Classification without Data Cleaning"
      ],
      "metadata": {
        "id": "XShv4w7nSeU-"
      }
    },
    {
      "cell_type": "markdown",
      "source": [
        "For each method, we will do hyperparametrization for the TfidVectorizer() function. We will do it on the analyzers word and char."
      ],
      "metadata": {
        "id": "G7dVMzNVxzuE"
      }
    },
    {
      "cell_type": "code",
      "source": [
        "# To compare all methods, we will create a list of accuracies depending on parameters and methods:\n",
        "TotalResult = []"
      ],
      "metadata": {
        "id": "qCr3SgtQzTUP"
      },
      "execution_count": null,
      "outputs": []
    },
    {
      "cell_type": "markdown",
      "source": [
        "##a) Split Data"
      ],
      "metadata": {
        "id": "_eYvWw-kTBXH"
      }
    },
    {
      "cell_type": "code",
      "source": [
        "# Select features\n",
        "X = Training_Data['sentence'] # the features we want to analyze\n",
        "y = Training_Data['difficulty'] # the labels, or answers, we want to test against"
      ],
      "metadata": {
        "id": "WPuEQOxQUY0B"
      },
      "execution_count": null,
      "outputs": []
    },
    {
      "cell_type": "code",
      "source": [
        "# Import train/test split function\n",
        "from sklearn.model_selection import train_test_split\n",
        "\n",
        "# Train/test splitting code\n",
        "X_train, X_test, y_train, y_test = train_test_split(X, y, test_size=0.2, random_state=72)"
      ],
      "metadata": {
        "id": "WCJcRAzPUTvQ"
      },
      "execution_count": null,
      "outputs": []
    },
    {
      "cell_type": "markdown",
      "source": [
        "##b) Function to evaluate the following models"
      ],
      "metadata": {
        "id": "YJp2LbFNXYFI"
      }
    },
    {
      "cell_type": "code",
      "source": [
        "# Evaluate the models\n",
        "def evaluate(true, pred):\n",
        "    precision = precision_score(true, pred, average='micro')\n",
        "    recall = recall_score(true, pred, average='micro')\n",
        "    f1 = f1_score(true, pred, average='micro')\n",
        "    print(f\"CONFUSION MATRIX:\\n{confusion_matrix(true, pred)}\")\n",
        "    print(f\"ACCURACY SCORE:\\n{accuracy_score(true, pred):.4f}\")\n",
        "    print(f\"CLASSIFICATION REPORT:\\n\\tPrecision: {precision:.4f}\\n\\tRecall: {recall:.4f}\\n\\tF1_Score: {f1:.4f}\")"
      ],
      "metadata": {
        "id": "mzlltioEXg4u"
      },
      "execution_count": null,
      "outputs": []
    },
    {
      "cell_type": "markdown",
      "metadata": {
        "id": "exzyB7GJ8j-9"
      },
      "source": [
        "##c) Classification of the reviews using Logistic Regression"
      ]
    },
    {
      "cell_type": "code",
      "source": [
        "from sklearn.linear_model import LogisticRegression\n",
        "from sklearn.pipeline import Pipeline\n",
        "\n",
        "# Define list for result\n",
        "analyzer = ['word', 'char']\n",
        "result = []\n",
        "\n",
        "for x in analyzer:\n",
        "\n",
        "    # Redefine vectorizer\n",
        "    tfidf_vector = TfidfVectorizer(tokenizer=spacy_tokenizer1, \n",
        "                                   analyzer=x)\n",
        "\n",
        "    # Define classifier\n",
        "    classifier = LogisticRegression()\n",
        "\n",
        "    # Create pipeline\n",
        "    pipe = Pipeline([('vectorizer', tfidf_vector),\n",
        "                 ('classifier', classifier)])\n",
        "\n",
        "    # Fit model on training set\n",
        "    pipe.fit(X_train, y_train)\n",
        "\n",
        "    # Predictions\n",
        "    y_pred = pipe.predict(X_test)\n",
        "\n",
        "    # Print accuracy on test set\n",
        "    print(\"Analyzer: \", x)\n",
        "    evaluate(y_test, y_pred)\n",
        "    print(\"-----------------------\")\n",
        "\n",
        "    # Append to result\n",
        "    result.append([x, accuracy_score(y_test, y_pred)])"
      ],
      "metadata": {
        "colab": {
          "base_uri": "https://localhost:8080/"
        },
        "id": "kcY0JBJkpZ_Z",
        "outputId": "59313444-34d9-4d93-a144-099db50845e2"
      },
      "execution_count": null,
      "outputs": [
        {
          "output_type": "stream",
          "name": "stdout",
          "text": [
            "Analyzer:  word\n",
            "CONFUSION MATRIX:\n",
            "[[  0   0   0   0   0 174]\n",
            " [  0   0   0   0   0 161]\n",
            " [  0   0   0   0   0 159]\n",
            " [  0   0   0   0   0 154]\n",
            " [  0   0   0   0   0 160]\n",
            " [  0   0   0   0   0 152]]\n",
            "ACCURACY SCORE:\n",
            "0.1583\n",
            "CLASSIFICATION REPORT:\n",
            "\tPrecision: 0.1583\n",
            "\tRecall: 0.1583\n",
            "\tF1_Score: 0.1583\n",
            "-----------------------\n",
            "Analyzer:  char\n",
            "CONFUSION MATRIX:\n",
            "[[113  25  17  12   2   5]\n",
            " [ 38  57  43   8   4  11]\n",
            " [ 17  31  54  21  12  24]\n",
            " [ 11   1  11  51  34  46]\n",
            " [  1   1  10  35  59  54]\n",
            " [  4   2   9  18  26  93]]\n",
            "ACCURACY SCORE:\n",
            "0.4448\n",
            "CLASSIFICATION REPORT:\n",
            "\tPrecision: 0.4448\n",
            "\tRecall: 0.4448\n",
            "\tF1_Score: 0.4448\n",
            "-----------------------\n"
          ]
        },
        {
          "output_type": "stream",
          "name": "stderr",
          "text": [
            "/usr/local/lib/python3.7/dist-packages/sklearn/linear_model/_logistic.py:818: ConvergenceWarning: lbfgs failed to converge (status=1):\n",
            "STOP: TOTAL NO. of ITERATIONS REACHED LIMIT.\n",
            "\n",
            "Increase the number of iterations (max_iter) or scale the data as shown in:\n",
            "    https://scikit-learn.org/stable/modules/preprocessing.html\n",
            "Please also refer to the documentation for alternative solver options:\n",
            "    https://scikit-learn.org/stable/modules/linear_model.html#logistic-regression\n",
            "  extra_warning_msg=_LOGISTIC_SOLVER_CONVERGENCE_MSG,\n"
          ]
        }
      ]
    },
    {
      "cell_type": "code",
      "source": [
        "TotalResult.append(result)\n",
        "result"
      ],
      "metadata": {
        "colab": {
          "base_uri": "https://localhost:8080/"
        },
        "id": "vSEM7z1xv47p",
        "outputId": "ede5e5c5-e8e0-41e1-e9bf-38eeabe8cb01"
      },
      "execution_count": null,
      "outputs": [
        {
          "output_type": "execute_result",
          "data": {
            "text/plain": [
              "[['word', 0.15833333333333333], ['char', 0.44479166666666664]]"
            ]
          },
          "metadata": {},
          "execution_count": 68
        }
      ]
    },
    {
      "cell_type": "markdown",
      "metadata": {
        "id": "yqeWpXWdJkEJ"
      },
      "source": [
        "##d) Classification of the reviews using KNN Regression"
      ]
    },
    {
      "cell_type": "code",
      "source": [
        "from sklearn.neighbors import KNeighborsClassifier\n",
        "from sklearn.pipeline import Pipeline\n",
        "\n",
        "# Define list for result\n",
        "analyzer = ['word', 'char']\n",
        "result = []\n",
        "\n",
        "for x in analyzer:\n",
        "\n",
        "    # Redefine vectorizer\n",
        "    tfidf_vector = TfidfVectorizer(tokenizer=spacy_tokenizer1, \n",
        "                                   analyzer=x)\n",
        "\n",
        "    # Define classifier\n",
        "    classifier = KNeighborsClassifier(n_neighbors=6)\n",
        "\n",
        "    # Create pipeline\n",
        "    pipe = Pipeline([('vectorizer', tfidf_vector),\n",
        "                 ('classifier', classifier)])\n",
        "\n",
        "    # Fit model on training set\n",
        "    pipe.fit(X_train, y_train)\n",
        "\n",
        "    # Predictions\n",
        "    y_pred = pipe.predict(X_test)\n",
        "\n",
        "    # Print accuracy on test set\n",
        "    print(\"Analyzer: \", x)\n",
        "    evaluate(y_test, y_pred)\n",
        "    print(\"-----------------------\")\n",
        "\n",
        "    # Append to result\n",
        "    result.append([x, accuracy_score(y_test, y_pred)])"
      ],
      "metadata": {
        "colab": {
          "base_uri": "https://localhost:8080/"
        },
        "id": "tMiU3jWF0GsY",
        "outputId": "318e6aaa-e215-4730-e8f4-f5454a032995"
      },
      "execution_count": null,
      "outputs": [
        {
          "output_type": "stream",
          "name": "stdout",
          "text": [
            "Analyzer:  word\n",
            "CONFUSION MATRIX:\n",
            "[[  0   0   0   0   0 174]\n",
            " [  0   0   0   0   0 161]\n",
            " [  0   0   0   0   0 159]\n",
            " [  0   0   0   0   0 154]\n",
            " [  0   0   0   0   0 160]\n",
            " [  0   0   0   0   0 152]]\n",
            "ACCURACY SCORE:\n",
            "0.1583\n",
            "CLASSIFICATION REPORT:\n",
            "\tPrecision: 0.1583\n",
            "\tRecall: 0.1583\n",
            "\tF1_Score: 0.1583\n",
            "-----------------------\n",
            "Analyzer:  char\n",
            "CONFUSION MATRIX:\n",
            "[[54 49 27 12 15 17]\n",
            " [20 44 34 17 23 23]\n",
            " [14 17 30 26 33 39]\n",
            " [ 5  4 17 30 52 46]\n",
            " [ 2  2  8 31 52 65]\n",
            " [ 1  4  9 19 42 77]]\n",
            "ACCURACY SCORE:\n",
            "0.2990\n",
            "CLASSIFICATION REPORT:\n",
            "\tPrecision: 0.2990\n",
            "\tRecall: 0.2990\n",
            "\tF1_Score: 0.2990\n",
            "-----------------------\n"
          ]
        }
      ]
    },
    {
      "cell_type": "code",
      "source": [
        "TotalResult.append(result)\n",
        "result"
      ],
      "metadata": {
        "colab": {
          "base_uri": "https://localhost:8080/"
        },
        "id": "yT9AgTRq0ro0",
        "outputId": "b5610889-60a1-4065-ca55-b50a95852e7c"
      },
      "execution_count": null,
      "outputs": [
        {
          "output_type": "execute_result",
          "data": {
            "text/plain": [
              "[['word', 0.15833333333333333], ['char', 0.2989583333333333]]"
            ]
          },
          "metadata": {},
          "execution_count": 70
        }
      ]
    },
    {
      "cell_type": "markdown",
      "metadata": {
        "id": "VVw0lRgtRPAd"
      },
      "source": [
        "##e) Classification of the reviews using Decision Tree Regression"
      ]
    },
    {
      "cell_type": "code",
      "source": [
        "from sklearn.tree import DecisionTreeClassifier\n",
        "from sklearn.pipeline import Pipeline\n",
        "\n",
        "# Define list for result\n",
        "analyzer = ['word', 'char']\n",
        "result = []\n",
        "\n",
        "for x in analyzer:\n",
        "\n",
        "    # Redefine vectorizer\n",
        "    tfidf_vector = TfidfVectorizer(tokenizer=spacy_tokenizer1, \n",
        "                                   analyzer=x)\n",
        "\n",
        "    # Define classifier\n",
        "    classifier = DecisionTreeClassifier(max_depth=7, random_state=72)\n",
        "\n",
        "    # Create pipeline\n",
        "    pipe = Pipeline([('vectorizer', tfidf_vector),\n",
        "                 ('classifier', classifier)])\n",
        "\n",
        "    # Fit model on training set\n",
        "    pipe.fit(X_train, y_train)\n",
        "\n",
        "    # Predictions\n",
        "    y_pred = pipe.predict(X_test)\n",
        "\n",
        "    # Print accuracy on test set\n",
        "    print(\"Analyzer: \", x)\n",
        "    evaluate(y_test, y_pred)\n",
        "    print(\"-----------------------\")\n",
        "\n",
        "    # Append to result\n",
        "    result.append([x, accuracy_score(y_test, y_pred)])"
      ],
      "metadata": {
        "colab": {
          "base_uri": "https://localhost:8080/"
        },
        "id": "ZrCUF1o1009u",
        "outputId": "27cd66cf-bf03-4f38-ca06-54695a5ebbc4"
      },
      "execution_count": null,
      "outputs": [
        {
          "output_type": "stream",
          "name": "stdout",
          "text": [
            "Analyzer:  word\n",
            "CONFUSION MATRIX:\n",
            "[[  0   0   0   0   0 174]\n",
            " [  0   0   0   0   0 161]\n",
            " [  0   0   0   0   0 159]\n",
            " [  0   0   0   0   0 154]\n",
            " [  0   0   0   0   0 160]\n",
            " [  0   0   0   0   0 152]]\n",
            "ACCURACY SCORE:\n",
            "0.1583\n",
            "CLASSIFICATION REPORT:\n",
            "\tPrecision: 0.1583\n",
            "\tRecall: 0.1583\n",
            "\tF1_Score: 0.1583\n",
            "-----------------------\n",
            "Analyzer:  char\n",
            "CONFUSION MATRIX:\n",
            "[[84 49 34  4  0  3]\n",
            " [33 56 62  6  1  3]\n",
            " [12 34 82 15  7  9]\n",
            " [ 4 12 37 43 35 23]\n",
            " [ 2 10 22 31 51 44]\n",
            " [ 2 10 23 11 41 65]]\n",
            "ACCURACY SCORE:\n",
            "0.3969\n",
            "CLASSIFICATION REPORT:\n",
            "\tPrecision: 0.3969\n",
            "\tRecall: 0.3969\n",
            "\tF1_Score: 0.3969\n",
            "-----------------------\n"
          ]
        }
      ]
    },
    {
      "cell_type": "code",
      "source": [
        "TotalResult.append(result)\n",
        "result"
      ],
      "metadata": {
        "colab": {
          "base_uri": "https://localhost:8080/"
        },
        "id": "MNzKZoLE1bC3",
        "outputId": "7e178af6-4966-4b08-8569-91ef3b195811"
      },
      "execution_count": null,
      "outputs": [
        {
          "output_type": "execute_result",
          "data": {
            "text/plain": [
              "[['word', 0.15833333333333333], ['char', 0.396875]]"
            ]
          },
          "metadata": {},
          "execution_count": 72
        }
      ]
    },
    {
      "cell_type": "markdown",
      "source": [
        "##f) Classification of the reviews using Random Forest Regression"
      ],
      "metadata": {
        "id": "hQgnfaQAbHm-"
      }
    },
    {
      "cell_type": "code",
      "source": [
        "from sklearn.ensemble import RandomForestClassifier\n",
        "from sklearn.pipeline import Pipeline\n",
        "\n",
        "# Define list for result\n",
        "analyzer = ['word', 'char']\n",
        "result = []\n",
        "\n",
        "for x in analyzer:\n",
        "\n",
        "    # Redefine vectorizer\n",
        "    tfidf_vector = TfidfVectorizer(tokenizer=spacy_tokenizer1, \n",
        "                                   analyzer=x)\n",
        "\n",
        "    # Define classifier\n",
        "    classifier = RandomForestClassifier(n_estimators=100)\n",
        "\n",
        "    # Create pipeline\n",
        "    pipe = Pipeline([('vectorizer', tfidf_vector),\n",
        "                 ('classifier', classifier)])\n",
        "\n",
        "    # Fit model on training set\n",
        "    pipe.fit(X_train, y_train)\n",
        "\n",
        "    # Predictions\n",
        "    y_pred = pipe.predict(X_test)\n",
        "\n",
        "    # Print accuracy on test set\n",
        "    print(\"Analyzer: \", x)\n",
        "    evaluate(y_test, y_pred)\n",
        "    print(\"-----------------------\")\n",
        "\n",
        "    # Append to result\n",
        "    result.append([x, accuracy_score(y_test, y_pred)])"
      ],
      "metadata": {
        "colab": {
          "base_uri": "https://localhost:8080/"
        },
        "id": "DbHLIFAa1nfw",
        "outputId": "ec429e08-fa6e-450a-c43d-00e0940e4957"
      },
      "execution_count": null,
      "outputs": [
        {
          "output_type": "stream",
          "name": "stdout",
          "text": [
            "Analyzer:  word\n",
            "CONFUSION MATRIX:\n",
            "[[  0   0   0   0   0 174]\n",
            " [  0   0   0   0   0 161]\n",
            " [  0   0   0   0   0 159]\n",
            " [  0   0   0   0   0 154]\n",
            " [  0   0   0   0   0 160]\n",
            " [  0   0   0   0   0 152]]\n",
            "ACCURACY SCORE:\n",
            "0.1583\n",
            "CLASSIFICATION REPORT:\n",
            "\tPrecision: 0.1583\n",
            "\tRecall: 0.1583\n",
            "\tF1_Score: 0.1583\n",
            "-----------------------\n",
            "Analyzer:  char\n",
            "CONFUSION MATRIX:\n",
            "[[116  38  17   1   1   1]\n",
            " [ 40  78  31   7   3   2]\n",
            " [ 19  38  59  16  12  15]\n",
            " [ 10   8  21  51  41  23]\n",
            " [  1   6  14  41  54  44]\n",
            " [  4   3   8  25  45  67]]\n",
            "ACCURACY SCORE:\n",
            "0.4427\n",
            "CLASSIFICATION REPORT:\n",
            "\tPrecision: 0.4427\n",
            "\tRecall: 0.4427\n",
            "\tF1_Score: 0.4427\n",
            "-----------------------\n"
          ]
        }
      ]
    },
    {
      "cell_type": "code",
      "source": [
        "TotalResult.append(result)\n",
        "result"
      ],
      "metadata": {
        "colab": {
          "base_uri": "https://localhost:8080/"
        },
        "id": "bQQQgXcp2Rrb",
        "outputId": "bb3910e8-35bc-4550-b348-19dee3788cc0"
      },
      "execution_count": null,
      "outputs": [
        {
          "output_type": "execute_result",
          "data": {
            "text/plain": [
              "[['word', 0.15833333333333333], ['char', 0.4427083333333333]]"
            ]
          },
          "metadata": {},
          "execution_count": 74
        }
      ]
    },
    {
      "cell_type": "markdown",
      "source": [
        "##g) Results"
      ],
      "metadata": {
        "id": "kS5-TBZ82TlN"
      }
    },
    {
      "cell_type": "markdown",
      "source": [
        "Let's compare our previous results to choose which method we are going to keep for the next part (with data cleaning)."
      ],
      "metadata": {
        "id": "Gzd49wLN2iVi"
      }
    },
    {
      "cell_type": "code",
      "source": [
        "# I import the library that I need to plot :\n",
        "import matplotlib.pyplot as plt\n",
        "\n",
        "# I build the lists which contains the accuracy for each method :\n",
        "n = len(TotalResult)\n",
        "TestAccuracyWord = [TotalResult[i][0][1] for i in range(n)]\n",
        "TestAccuracyChar = [TotalResult[i][1][1] for i in range(n)]\n",
        "x = [i for i in range(1,n+1)]\n",
        "\n",
        "# I plot the lists and I put a name for each point :\n",
        "labels = ['Logistic', 'KNN', 'DecTree', 'RandForest']\n",
        "\n",
        "plt.title('Accuracy')\n",
        "plt.plot(x, TestAccuracyWord, label = 'Word')\n",
        "plt.plot(x, TestAccuracyChar, label = 'Char')\n",
        "plt.legend()\n",
        "plt.xticks(x, labels, rotation = 45)\n",
        "\n",
        "plt.show()"
      ],
      "metadata": {
        "colab": {
          "base_uri": "https://localhost:8080/",
          "height": 318
        },
        "id": "lAL9O0hB2yRj",
        "outputId": "99a8fcd5-96f1-48de-f8f1-429e2280cf3e"
      },
      "execution_count": null,
      "outputs": [
        {
          "output_type": "display_data",
          "data": {
            "image/png": "[encoded data removed]",
            "text/plain": [
              "<Figure size 432x288 with 1 Axes>"
            ]
          },
          "metadata": {
            "needs_background": "light"
          }
        }
      ]
    },
    {
      "cell_type": "code",
      "source": [
        "TotalResult"
      ],
      "metadata": {
        "colab": {
          "base_uri": "https://localhost:8080/"
        },
        "id": "2OZz3_8v5eVj",
        "outputId": "7e4bccd6-a2b3-432a-bdf7-b0b9bfad82ab"
      },
      "execution_count": null,
      "outputs": [
        {
          "output_type": "execute_result",
          "data": {
            "text/plain": [
              "[[['word', 0.15833333333333333], ['char', 0.44479166666666664]],\n",
              " [['word', 0.15833333333333333], ['char', 0.2989583333333333]],\n",
              " [['word', 0.15833333333333333], ['char', 0.396875]],\n",
              " [['word', 0.15833333333333333], ['char', 0.4427083333333333]]]"
            ]
          },
          "metadata": {},
          "execution_count": 78
        }
      ]
    },
    {
      "cell_type": "markdown",
      "source": [
        "According to the list and the graph, we decide to continue to work with Logistic Regression and Analyzer = 'char'."
      ],
      "metadata": {
        "id": "Z-BF-mFW5jwJ"
      }
    },
    {
      "cell_type": "markdown",
      "source": [
        "#3) Classification with Data Cleaning"
      ],
      "metadata": {
        "id": "UOBzI0sX53a9"
      }
    },
    {
      "cell_type": "markdown",
      "source": [
        "##a) Data Cleaning function"
      ],
      "metadata": {
        "id": "XqiTex2K6GN6"
      }
    },
    {
      "cell_type": "code",
      "source": [
        "# Let's implement the tokenizer function:\n",
        "\n",
        "# Load French language model:\n",
        "sp = spacy.load('fr_core_news_sm')\n",
        "\n",
        "# Tokenizer function:\n",
        "def spacy_tokenizer2(sentence):\n",
        "    # Create token object, which is used to create documents with linguistic annotations.\n",
        "    mytokens = sp(sentence)\n",
        "    \n",
        "    # Lemmatize each token and convert each token into lowercase\n",
        "    mytokens = [ word.lemma_.lower().strip() for word in mytokens ]\n",
        "\n",
        "    # Remove stop words and punctuation\n",
        "    mytokens = [ word for word in mytokens if word not in stop_words and word not in punctuations ]\n",
        "\n",
        "    # Remove anonymous dates and people\n",
        "    mytokens = [ word.replace('xx/', '').replace('xxxx/', '').replace('xx', '') for word in mytokens ]\n",
        "    mytokens = [ word for word in mytokens if word not in [\"xxxx\", \"xx\", \"\"] ]\n",
        "\n",
        "    # Return preprocessed list of tokens\n",
        "    return mytokens"
      ],
      "metadata": {
        "id": "93ihyiFx6Oyz"
      },
      "execution_count": null,
      "outputs": []
    },
    {
      "cell_type": "markdown",
      "source": [
        "##b) Classification with Clean Data using Logistic Regression"
      ],
      "metadata": {
        "id": "1ZQYkTIU6kjM"
      }
    },
    {
      "cell_type": "markdown",
      "source": [
        "We do the regression."
      ],
      "metadata": {
        "id": "obcYjN0W7ni5"
      }
    },
    {
      "cell_type": "code",
      "source": [
        "from sklearn.linear_model import LogisticRegression\n",
        "from sklearn.pipeline import Pipeline\n",
        "\n",
        "# Define vectorizer\n",
        "tfidf_vector = TfidfVectorizer(tokenizer=spacy_tokenizer2, \n",
        "                                   analyzer='char')\n",
        "# Define classifier\n",
        "classifier = LogisticRegression()\n",
        "\n",
        "# Create pipeline\n",
        "pipe = Pipeline([('vectorizer', tfidf_vector),\n",
        "                 ('classifier', classifier)])\n",
        "\n",
        "# Fit model on training set\n",
        "pipe.fit(X_train, y_train)"
      ],
      "metadata": {
        "colab": {
          "base_uri": "https://localhost:8080/"
        },
        "id": "RITmZYHj65uO",
        "outputId": "289cb205-f261-406d-cd09-9451754aadfb"
      },
      "execution_count": null,
      "outputs": [
        {
          "output_type": "stream",
          "name": "stderr",
          "text": [
            "/usr/local/lib/python3.7/dist-packages/sklearn/linear_model/_logistic.py:818: ConvergenceWarning: lbfgs failed to converge (status=1):\n",
            "STOP: TOTAL NO. of ITERATIONS REACHED LIMIT.\n",
            "\n",
            "Increase the number of iterations (max_iter) or scale the data as shown in:\n",
            "    https://scikit-learn.org/stable/modules/preprocessing.html\n",
            "Please also refer to the documentation for alternative solver options:\n",
            "    https://scikit-learn.org/stable/modules/linear_model.html#logistic-regression\n",
            "  extra_warning_msg=_LOGISTIC_SOLVER_CONVERGENCE_MSG,\n"
          ]
        },
        {
          "output_type": "execute_result",
          "data": {
            "text/plain": [
              "Pipeline(steps=[('vectorizer',\n",
              "                 TfidfVectorizer(analyzer='char',\n",
              "                                 tokenizer=<function spacy_tokenizer2 at 0x7f229097ddd0>)),\n",
              "                ('classifier', LogisticRegression())])"
            ]
          },
          "metadata": {},
          "execution_count": 81
        }
      ]
    },
    {
      "cell_type": "code",
      "source": [
        "# Prediction\n",
        "y_pred = pipe.predict(X_test)\n",
        "\n",
        "# Evaluate\n",
        "evaluate(y_test, y_pred)"
      ],
      "metadata": {
        "colab": {
          "base_uri": "https://localhost:8080/"
        },
        "id": "TOuY89Jo79mT",
        "outputId": "f0550f29-a9f7-4f06-dd91-1b806a97138e"
      },
      "execution_count": null,
      "outputs": [
        {
          "output_type": "stream",
          "name": "stdout",
          "text": [
            "CONFUSION MATRIX:\n",
            "[[113  25  17  12   2   5]\n",
            " [ 38  57  43   8   4  11]\n",
            " [ 17  31  54  21  12  24]\n",
            " [ 11   1  11  51  34  46]\n",
            " [  1   1  10  35  59  54]\n",
            " [  4   2   9  18  26  93]]\n",
            "ACCURACY SCORE:\n",
            "0.4448\n",
            "CLASSIFICATION REPORT:\n",
            "\tPrecision: 0.4448\n",
            "\tRecall: 0.4448\n",
            "\tF1_Score: 0.4448\n"
          ]
        }
      ]
    },
    {
      "cell_type": "markdown",
      "source": [
        "#4) Final Classifation for Kaggle"
      ],
      "metadata": {
        "id": "zAS5lFNC-qEa"
      }
    },
    {
      "cell_type": "markdown",
      "source": [
        "To get a better accuracy, we use the whole Train Data to do the final regression."
      ],
      "metadata": {
        "id": "Y8LOQvKpBLIi"
      }
    },
    {
      "cell_type": "code",
      "source": [
        "# We select the Data for the regression\n",
        "X_train = Training_Data['sentence'] \n",
        "y_train = Training_Data['difficulty'] "
      ],
      "metadata": {
        "id": "Oz2BZn7HArq_"
      },
      "execution_count": null,
      "outputs": []
    },
    {
      "cell_type": "code",
      "source": [
        "from sklearn.linear_model import LogisticRegression\n",
        "from sklearn.pipeline import Pipeline\n",
        "\n",
        "# Define vectorizer\n",
        "tfidf_vector = TfidfVectorizer(tokenizer=spacy_tokenizer2, \n",
        "                                   analyzer='char')\n",
        "# Define classifier\n",
        "classifier = LogisticRegression()\n",
        "\n",
        "# Create pipeline\n",
        "pipe = Pipeline([('vectorizer', tfidf_vector),\n",
        "                 ('classifier', classifier)])\n",
        "\n",
        "# Fit model on training set\n",
        "pipe.fit(X_train, y_train)"
      ],
      "metadata": {
        "colab": {
          "base_uri": "https://localhost:8080/"
        },
        "id": "2FaE9v7rBJg-",
        "outputId": "0df149f9-8ed8-4871-bdff-c040fa26ab0c"
      },
      "execution_count": null,
      "outputs": [
        {
          "output_type": "stream",
          "name": "stderr",
          "text": [
            "/usr/local/lib/python3.7/dist-packages/sklearn/linear_model/_logistic.py:818: ConvergenceWarning: lbfgs failed to converge (status=1):\n",
            "STOP: TOTAL NO. of ITERATIONS REACHED LIMIT.\n",
            "\n",
            "Increase the number of iterations (max_iter) or scale the data as shown in:\n",
            "    https://scikit-learn.org/stable/modules/preprocessing.html\n",
            "Please also refer to the documentation for alternative solver options:\n",
            "    https://scikit-learn.org/stable/modules/linear_model.html#logistic-regression\n",
            "  extra_warning_msg=_LOGISTIC_SOLVER_CONVERGENCE_MSG,\n"
          ]
        },
        {
          "output_type": "execute_result",
          "data": {
            "text/plain": [
              "Pipeline(steps=[('vectorizer',\n",
              "                 TfidfVectorizer(analyzer='char',\n",
              "                                 tokenizer=<function spacy_tokenizer2 at 0x7f229097ddd0>)),\n",
              "                ('classifier', LogisticRegression())])"
            ]
          },
          "metadata": {},
          "execution_count": 84
        }
      ]
    },
    {
      "cell_type": "markdown",
      "source": [
        "Now we can do the prediction with the Test Data for Kaggle"
      ],
      "metadata": {
        "id": "gvBDQ4kEBgVP"
      }
    },
    {
      "cell_type": "code",
      "source": [
        "X_test = Test_Data[\"sentence\"]\n",
        "LogRegPred = pipe.predict(X_test)"
      ],
      "metadata": {
        "id": "iUEbIIXvAPYH"
      },
      "execution_count": null,
      "outputs": []
    },
    {
      "cell_type": "code",
      "source": [
        "LogisticReg_pred = pd.DataFrame(LogRegPred)"
      ],
      "metadata": {
        "id": "bdJpZCvMAblG"
      },
      "execution_count": null,
      "outputs": []
    },
    {
      "cell_type": "code",
      "source": [
        "LogisticReg_pred.columns = ['difficulty']\n",
        "LogisticReg_pred.insert(0, 'id', [i for i in range(1200)])"
      ],
      "metadata": {
        "id": "VtUXG3zAAkON"
      },
      "execution_count": null,
      "outputs": []
    },
    {
      "cell_type": "code",
      "source": [
        "LogisticReg_pred.to_csv('LogisticReg_prediction.csv', header = True, index = False)"
      ],
      "metadata": {
        "id": "3RRCPRbeAoYA"
      },
      "execution_count": null,
      "outputs": []
    }
  ]
}